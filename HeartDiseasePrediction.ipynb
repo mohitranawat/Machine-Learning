{
 "cells": [
  {
   "cell_type": "markdown",
   "metadata": {},
   "source": [
    "# The Problem\n",
    "Heart Disease\n",
    "Heart disease describes a range of conditions that affect your heart. Diseases under the heart disease umbrella include blood vessel diseases, such as coronary artery disease; heart rhythm problems (arrhythmias); and heart defects you're born with (congenital heart defects), among others.\n",
    "While cardiovascular disease can refer to different heart or blood vessel problems, the term is often used to mean damage to your heart or blood vessels by atherosclerosis (ath-ur-o-skluh-ROE-sis), a buildup of fatty plaques in your arteries. Plaque buildup thickens and stiffens artery walls, which can inhibit blood flow through your arteries to your organs and tissues.\n",
    "Atherosclerosis is also the most common cause of cardiovascular disease. It can be caused by correctable problems, such as an unhealthy diet, lack of exercise, being overweight and smoking."
   ]
  },
  {
   "cell_type": "markdown",
   "metadata": {},
   "source": [
    "# Diagnosis\n",
    "The diagnosis of heart disease is done on a combination of clinical signs and test results. The types of tests run will be chosen on the basis of what the physician thinks is going on, ranging from electrocardiograms and cardiac computerized tomography (CT) scans, to blood tests and exercise stress tests."
   ]
  },
  {
   "cell_type": "markdown",
   "metadata": {},
   "source": [
    "# Dataset\n",
    "The original database contains 76 attributes, but all published experiments refer to using a subset of 14 of them. In particular, the Cleveland database is the only one that has been used by ML researchers to this date. The \"goal\" field refers to the presence of heart disease in the patient. It is integer valued from 0 (no presence) to 4. Experiments with the Cleveland database have concentrated on simply attempting to distinguish presence (values 1,2,3,4) from absence (value 0)."
   ]
  },
  {
   "cell_type": "markdown",
   "metadata": {},
   "source": [
    "Why was it important to understand what heart disease is and its diagnosis processes? after all we don't perform the surgery.\n"
   ]
  },
  {
   "cell_type": "markdown",
   "metadata": {},
   "source": [
    "A bit of background research is important to solve any machine learning problem. When we have the knowledge of what factors contribute to the presense of heart disease, we know what to look for. If the necessary information isn't available we can either extract it from other features or get back to data collection. Absense of this backgroud may lead to building flimsy models.  "
   ]
  },
  {
   "cell_type": "code",
   "execution_count": 1,
   "metadata": {},
   "outputs": [
    {
     "name": "stderr",
     "output_type": "stream",
     "text": [
      "c:\\users\\mohit ranawat\\appdata\\local\\programs\\python\\python38\\lib\\site-packages\\sklearn\\utils\\deprecation.py:143: FutureWarning: The sklearn.metrics.scorer module is  deprecated in version 0.22 and will be removed in version 0.24. The corresponding classes / functions should instead be imported from sklearn.metrics. Anything that cannot be imported from sklearn.metrics is now part of the private API.\n",
      "  warnings.warn(message, FutureWarning)\n",
      "c:\\users\\mohit ranawat\\appdata\\local\\programs\\python\\python38\\lib\\site-packages\\sklearn\\utils\\deprecation.py:143: FutureWarning: The sklearn.feature_selection.base module is  deprecated in version 0.22 and will be removed in version 0.24. The corresponding classes / functions should instead be imported from sklearn.feature_selection. Anything that cannot be imported from sklearn.feature_selection is now part of the private API.\n",
      "  warnings.warn(message, FutureWarning)\n"
     ]
    }
   ],
   "source": [
    "import numpy as np\n",
    "import pandas as pd\n",
    "import matplotlib.pyplot as plt\n",
    "import seaborn as sns\n",
    "\n",
    "\n",
    "from sklearn.linear_model import LogisticRegression\n",
    "import statsmodels as sm\n",
    "from sklearn.neighbors import KNeighborsClassifier\n",
    "from sklearn.svm import SVC\n",
    "from sklearn.naive_bayes import GaussianNB\n",
    "from sklearn.tree import DecisionTreeClassifier\n",
    "from sklearn.ensemble import GradientBoostingClassifier\n",
    "from sklearn.ensemble import RandomForestClassifier\n",
    "\n",
    "\n",
    "from sklearn.model_selection import train_test_split\n",
    "from sklearn.preprocessing import StandardScaler\n",
    "from sklearn.impute import SimpleImputer\n",
    "from sklearn.decomposition import PCA\n",
    "\n",
    "from sklearn.model_selection import GridSearchCV,train_test_split,cross_val_score\n",
    "from sklearn.metrics import classification_report,confusion_matrix\n",
    "from sklearn.metrics import roc_curve, auc\n",
    "from sklearn.metrics import r2_score,accuracy_score\n",
    "import eli5\n",
    "from eli5.sklearn import PermutationImportance\n",
    "#import shap\n",
    "from pdpbox import pdp, info_plots"
   ]
  },
  {
   "cell_type": "code",
   "execution_count": 2,
   "metadata": {},
   "outputs": [
    {
     "data": {
      "text/plain": [
       "(303, 14)"
      ]
     },
     "execution_count": 2,
     "metadata": {},
     "output_type": "execute_result"
    }
   ],
   "source": [
    "df = pd.read_csv(r\"F:\\Datasets\\end_to_end_data_sets\\end to end data sets\\heart.csv\")\n",
    "df.shape"
   ]
  },
  {
   "cell_type": "code",
   "execution_count": 3,
   "metadata": {},
   "outputs": [
    {
     "data": {
      "text/html": [
       "<div>\n",
       "<style scoped>\n",
       "    .dataframe tbody tr th:only-of-type {\n",
       "        vertical-align: middle;\n",
       "    }\n",
       "\n",
       "    .dataframe tbody tr th {\n",
       "        vertical-align: top;\n",
       "    }\n",
       "\n",
       "    .dataframe thead th {\n",
       "        text-align: right;\n",
       "    }\n",
       "</style>\n",
       "<table border=\"1\" class=\"dataframe\">\n",
       "  <thead>\n",
       "    <tr style=\"text-align: right;\">\n",
       "      <th></th>\n",
       "      <th>age</th>\n",
       "      <th>sex</th>\n",
       "      <th>cp</th>\n",
       "      <th>trestbps</th>\n",
       "      <th>chol</th>\n",
       "      <th>fbs</th>\n",
       "      <th>restecg</th>\n",
       "      <th>thalach</th>\n",
       "      <th>exang</th>\n",
       "      <th>oldpeak</th>\n",
       "      <th>slope</th>\n",
       "      <th>ca</th>\n",
       "      <th>thal</th>\n",
       "      <th>target</th>\n",
       "    </tr>\n",
       "  </thead>\n",
       "  <tbody>\n",
       "    <tr>\n",
       "      <th>0</th>\n",
       "      <td>63</td>\n",
       "      <td>1</td>\n",
       "      <td>3</td>\n",
       "      <td>145</td>\n",
       "      <td>233</td>\n",
       "      <td>1</td>\n",
       "      <td>0</td>\n",
       "      <td>150</td>\n",
       "      <td>0</td>\n",
       "      <td>2.3</td>\n",
       "      <td>0</td>\n",
       "      <td>0</td>\n",
       "      <td>1</td>\n",
       "      <td>1</td>\n",
       "    </tr>\n",
       "    <tr>\n",
       "      <th>1</th>\n",
       "      <td>37</td>\n",
       "      <td>1</td>\n",
       "      <td>2</td>\n",
       "      <td>130</td>\n",
       "      <td>250</td>\n",
       "      <td>0</td>\n",
       "      <td>1</td>\n",
       "      <td>187</td>\n",
       "      <td>0</td>\n",
       "      <td>3.5</td>\n",
       "      <td>0</td>\n",
       "      <td>0</td>\n",
       "      <td>2</td>\n",
       "      <td>1</td>\n",
       "    </tr>\n",
       "    <tr>\n",
       "      <th>2</th>\n",
       "      <td>41</td>\n",
       "      <td>0</td>\n",
       "      <td>1</td>\n",
       "      <td>130</td>\n",
       "      <td>204</td>\n",
       "      <td>0</td>\n",
       "      <td>0</td>\n",
       "      <td>172</td>\n",
       "      <td>0</td>\n",
       "      <td>1.4</td>\n",
       "      <td>2</td>\n",
       "      <td>0</td>\n",
       "      <td>2</td>\n",
       "      <td>1</td>\n",
       "    </tr>\n",
       "    <tr>\n",
       "      <th>3</th>\n",
       "      <td>56</td>\n",
       "      <td>1</td>\n",
       "      <td>1</td>\n",
       "      <td>120</td>\n",
       "      <td>236</td>\n",
       "      <td>0</td>\n",
       "      <td>1</td>\n",
       "      <td>178</td>\n",
       "      <td>0</td>\n",
       "      <td>0.8</td>\n",
       "      <td>2</td>\n",
       "      <td>0</td>\n",
       "      <td>2</td>\n",
       "      <td>1</td>\n",
       "    </tr>\n",
       "    <tr>\n",
       "      <th>4</th>\n",
       "      <td>57</td>\n",
       "      <td>0</td>\n",
       "      <td>0</td>\n",
       "      <td>120</td>\n",
       "      <td>354</td>\n",
       "      <td>0</td>\n",
       "      <td>1</td>\n",
       "      <td>163</td>\n",
       "      <td>1</td>\n",
       "      <td>0.6</td>\n",
       "      <td>2</td>\n",
       "      <td>0</td>\n",
       "      <td>2</td>\n",
       "      <td>1</td>\n",
       "    </tr>\n",
       "  </tbody>\n",
       "</table>\n",
       "</div>"
      ],
      "text/plain": [
       "   age  sex  cp  trestbps  chol  fbs  restecg  thalach  exang  oldpeak  slope  \\\n",
       "0   63    1   3       145   233    1        0      150      0      2.3      0   \n",
       "1   37    1   2       130   250    0        1      187      0      3.5      0   \n",
       "2   41    0   1       130   204    0        0      172      0      1.4      2   \n",
       "3   56    1   1       120   236    0        1      178      0      0.8      2   \n",
       "4   57    0   0       120   354    0        1      163      1      0.6      2   \n",
       "\n",
       "   ca  thal  target  \n",
       "0   0     1       1  \n",
       "1   0     2       1  \n",
       "2   0     2       1  \n",
       "3   0     2       1  \n",
       "4   0     2       1  "
      ]
     },
     "execution_count": 3,
     "metadata": {},
     "output_type": "execute_result"
    }
   ],
   "source": [
    "df.head()"
   ]
  },
  {
   "cell_type": "markdown",
   "metadata": {},
   "source": [
    "# Data Description\n",
    "1. age - age in years \n",
    "2. sex - (1 = male; 0 = female) \n",
    "3. cp - chest pain type (4 values) \n",
    "    -- Value 0: typical angina\n",
    "    -- Value 1: atypical angina\n",
    "    -- Value 2: non-anginal pain\n",
    "    -- Value 3: asymptomatic\n",
    "4. trestbps - resting blood pressure (in mm Hg on admission to the hospital) \n",
    "5. chol - serum cholestoral in mg/dl \n",
    "6. fbs - (fasting blood sugar > 120 mg/dl) (1 = true; 0 = false) \n",
    "7. restecg - resting electrocardiographic results \n",
    "    -- Value 0: normal\n",
    "    -- Value 1: having ST-T wave abnormality (T wave inversions and/or ST elevation or depression of > 0.05 mV)\n",
    "    -- Value 2: showing probable or definite left ventricular hypertrophy by Estes' criteria\n",
    "8. thalach - maximum heart rate achieved \n",
    "9. exang - exercise induced angina (1 = yes; 0 = no) \n",
    "10. oldpeak - ST depression induced by exercise relative to rest \n",
    "11. slope - the slope of the peak exercise ST segment \n",
    "    -- Value 0: upsloping\n",
    "    -- Value 1: flat\n",
    "    -- Value 2: downsloping\n",
    "12. ca - number of major vessels (0-3) colored by flourosopy \n",
    "13. thal \n",
    "    -- Value 0: unknown\n",
    "    -- Value 1: fixed defect\n",
    "    -- Value 2: normal\n",
    "    -- Value 3: reversable defect \n",
    "14. target - have disease or not (1=yes, 0=no)"
   ]
  },
  {
   "cell_type": "code",
   "execution_count": 4,
   "metadata": {},
   "outputs": [],
   "source": [
    "df_org = df.copy(deep=True)"
   ]
  },
  {
   "cell_type": "code",
   "execution_count": 5,
   "metadata": {},
   "outputs": [],
   "source": [
    "df['sex'].replace({1:'male',0:'female'},inplace=True)\n",
    "df['cp'].replace({0:'typical angina',1:'atypical angina',2:'non-anginal pain',3:'asymptomatic'},inplace=True)\n",
    "df['restecg'].replace({0:'normal',1:'ST wave abnormality',2:'ventricular hypertrophy'},inplace=True)\n",
    "df['slope'].replace({0:'upsloping',1:'flat',2:'downsloping'},inplace=True)\n",
    "df['thal'].replace({0:'unknown',1:'fixed defect',2:'normal',3:'reversable defect'},inplace=True)"
   ]
  },
  {
   "cell_type": "code",
   "execution_count": 6,
   "metadata": {},
   "outputs": [
    {
     "name": "stdout",
     "output_type": "stream",
     "text": [
      "sex\n",
      "male      207\n",
      "female     96\n",
      "Name: sex, dtype: int64\n",
      "\n",
      "cp\n",
      "typical angina      143\n",
      "non-anginal pain     87\n",
      "atypical angina      50\n",
      "asymptomatic         23\n",
      "Name: cp, dtype: int64\n",
      "\n",
      "restecg\n",
      "ST wave abnormality        152\n",
      "normal                     147\n",
      "ventricular hypertrophy      4\n",
      "Name: restecg, dtype: int64\n",
      "\n",
      "slope\n",
      "downsloping    142\n",
      "flat           140\n",
      "upsloping       21\n",
      "Name: slope, dtype: int64\n",
      "\n",
      "thal\n",
      "normal               166\n",
      "reversable defect    117\n",
      "fixed defect          18\n",
      "unknown                2\n",
      "Name: thal, dtype: int64\n",
      "\n"
     ]
    }
   ],
   "source": [
    "for col in ['sex','cp','restecg','slope','thal']:\n",
    "    print(col)\n",
    "    print(df[col].value_counts())\n",
    "    print()"
   ]
  },
  {
   "cell_type": "code",
   "execution_count": 7,
   "metadata": {},
   "outputs": [
    {
     "data": {
      "text/html": [
       "<div>\n",
       "<style scoped>\n",
       "    .dataframe tbody tr th:only-of-type {\n",
       "        vertical-align: middle;\n",
       "    }\n",
       "\n",
       "    .dataframe tbody tr th {\n",
       "        vertical-align: top;\n",
       "    }\n",
       "\n",
       "    .dataframe thead th {\n",
       "        text-align: right;\n",
       "    }\n",
       "</style>\n",
       "<table border=\"1\" class=\"dataframe\">\n",
       "  <thead>\n",
       "    <tr style=\"text-align: right;\">\n",
       "      <th></th>\n",
       "      <th>age</th>\n",
       "      <th>trestbps</th>\n",
       "      <th>chol</th>\n",
       "      <th>fbs</th>\n",
       "      <th>thalach</th>\n",
       "      <th>exang</th>\n",
       "      <th>oldpeak</th>\n",
       "      <th>ca</th>\n",
       "      <th>target</th>\n",
       "    </tr>\n",
       "  </thead>\n",
       "  <tbody>\n",
       "    <tr>\n",
       "      <th>count</th>\n",
       "      <td>303.000000</td>\n",
       "      <td>303.000000</td>\n",
       "      <td>303.000000</td>\n",
       "      <td>303.000000</td>\n",
       "      <td>303.000000</td>\n",
       "      <td>303.000000</td>\n",
       "      <td>303.000000</td>\n",
       "      <td>303.000000</td>\n",
       "      <td>303.000000</td>\n",
       "    </tr>\n",
       "    <tr>\n",
       "      <th>mean</th>\n",
       "      <td>54.366337</td>\n",
       "      <td>131.623762</td>\n",
       "      <td>246.264026</td>\n",
       "      <td>0.148515</td>\n",
       "      <td>149.646865</td>\n",
       "      <td>0.326733</td>\n",
       "      <td>1.039604</td>\n",
       "      <td>0.729373</td>\n",
       "      <td>0.544554</td>\n",
       "    </tr>\n",
       "    <tr>\n",
       "      <th>std</th>\n",
       "      <td>9.082101</td>\n",
       "      <td>17.538143</td>\n",
       "      <td>51.830751</td>\n",
       "      <td>0.356198</td>\n",
       "      <td>22.905161</td>\n",
       "      <td>0.469794</td>\n",
       "      <td>1.161075</td>\n",
       "      <td>1.022606</td>\n",
       "      <td>0.498835</td>\n",
       "    </tr>\n",
       "    <tr>\n",
       "      <th>min</th>\n",
       "      <td>29.000000</td>\n",
       "      <td>94.000000</td>\n",
       "      <td>126.000000</td>\n",
       "      <td>0.000000</td>\n",
       "      <td>71.000000</td>\n",
       "      <td>0.000000</td>\n",
       "      <td>0.000000</td>\n",
       "      <td>0.000000</td>\n",
       "      <td>0.000000</td>\n",
       "    </tr>\n",
       "    <tr>\n",
       "      <th>25%</th>\n",
       "      <td>47.500000</td>\n",
       "      <td>120.000000</td>\n",
       "      <td>211.000000</td>\n",
       "      <td>0.000000</td>\n",
       "      <td>133.500000</td>\n",
       "      <td>0.000000</td>\n",
       "      <td>0.000000</td>\n",
       "      <td>0.000000</td>\n",
       "      <td>0.000000</td>\n",
       "    </tr>\n",
       "    <tr>\n",
       "      <th>50%</th>\n",
       "      <td>55.000000</td>\n",
       "      <td>130.000000</td>\n",
       "      <td>240.000000</td>\n",
       "      <td>0.000000</td>\n",
       "      <td>153.000000</td>\n",
       "      <td>0.000000</td>\n",
       "      <td>0.800000</td>\n",
       "      <td>0.000000</td>\n",
       "      <td>1.000000</td>\n",
       "    </tr>\n",
       "    <tr>\n",
       "      <th>75%</th>\n",
       "      <td>61.000000</td>\n",
       "      <td>140.000000</td>\n",
       "      <td>274.500000</td>\n",
       "      <td>0.000000</td>\n",
       "      <td>166.000000</td>\n",
       "      <td>1.000000</td>\n",
       "      <td>1.600000</td>\n",
       "      <td>1.000000</td>\n",
       "      <td>1.000000</td>\n",
       "    </tr>\n",
       "    <tr>\n",
       "      <th>max</th>\n",
       "      <td>77.000000</td>\n",
       "      <td>200.000000</td>\n",
       "      <td>564.000000</td>\n",
       "      <td>1.000000</td>\n",
       "      <td>202.000000</td>\n",
       "      <td>1.000000</td>\n",
       "      <td>6.200000</td>\n",
       "      <td>4.000000</td>\n",
       "      <td>1.000000</td>\n",
       "    </tr>\n",
       "  </tbody>\n",
       "</table>\n",
       "</div>"
      ],
      "text/plain": [
       "              age    trestbps        chol         fbs     thalach       exang  \\\n",
       "count  303.000000  303.000000  303.000000  303.000000  303.000000  303.000000   \n",
       "mean    54.366337  131.623762  246.264026    0.148515  149.646865    0.326733   \n",
       "std      9.082101   17.538143   51.830751    0.356198   22.905161    0.469794   \n",
       "min     29.000000   94.000000  126.000000    0.000000   71.000000    0.000000   \n",
       "25%     47.500000  120.000000  211.000000    0.000000  133.500000    0.000000   \n",
       "50%     55.000000  130.000000  240.000000    0.000000  153.000000    0.000000   \n",
       "75%     61.000000  140.000000  274.500000    0.000000  166.000000    1.000000   \n",
       "max     77.000000  200.000000  564.000000    1.000000  202.000000    1.000000   \n",
       "\n",
       "          oldpeak          ca      target  \n",
       "count  303.000000  303.000000  303.000000  \n",
       "mean     1.039604    0.729373    0.544554  \n",
       "std      1.161075    1.022606    0.498835  \n",
       "min      0.000000    0.000000    0.000000  \n",
       "25%      0.000000    0.000000    0.000000  \n",
       "50%      0.800000    0.000000    1.000000  \n",
       "75%      1.600000    1.000000    1.000000  \n",
       "max      6.200000    4.000000    1.000000  "
      ]
     },
     "execution_count": 7,
     "metadata": {},
     "output_type": "execute_result"
    }
   ],
   "source": [
    "df.describe()"
   ]
  },
  {
   "cell_type": "code",
   "execution_count": 8,
   "metadata": {},
   "outputs": [
    {
     "data": {
      "text/html": [
       "<div>\n",
       "<style scoped>\n",
       "    .dataframe tbody tr th:only-of-type {\n",
       "        vertical-align: middle;\n",
       "    }\n",
       "\n",
       "    .dataframe tbody tr th {\n",
       "        vertical-align: top;\n",
       "    }\n",
       "\n",
       "    .dataframe thead th {\n",
       "        text-align: right;\n",
       "    }\n",
       "</style>\n",
       "<table border=\"1\" class=\"dataframe\">\n",
       "  <thead>\n",
       "    <tr style=\"text-align: right;\">\n",
       "      <th></th>\n",
       "      <th>sex</th>\n",
       "      <th>cp</th>\n",
       "      <th>restecg</th>\n",
       "      <th>slope</th>\n",
       "      <th>thal</th>\n",
       "    </tr>\n",
       "  </thead>\n",
       "  <tbody>\n",
       "    <tr>\n",
       "      <th>count</th>\n",
       "      <td>303</td>\n",
       "      <td>303</td>\n",
       "      <td>303</td>\n",
       "      <td>303</td>\n",
       "      <td>303</td>\n",
       "    </tr>\n",
       "    <tr>\n",
       "      <th>unique</th>\n",
       "      <td>2</td>\n",
       "      <td>4</td>\n",
       "      <td>3</td>\n",
       "      <td>3</td>\n",
       "      <td>4</td>\n",
       "    </tr>\n",
       "    <tr>\n",
       "      <th>top</th>\n",
       "      <td>male</td>\n",
       "      <td>typical angina</td>\n",
       "      <td>ST wave abnormality</td>\n",
       "      <td>downsloping</td>\n",
       "      <td>normal</td>\n",
       "    </tr>\n",
       "    <tr>\n",
       "      <th>freq</th>\n",
       "      <td>207</td>\n",
       "      <td>143</td>\n",
       "      <td>152</td>\n",
       "      <td>142</td>\n",
       "      <td>166</td>\n",
       "    </tr>\n",
       "  </tbody>\n",
       "</table>\n",
       "</div>"
      ],
      "text/plain": [
       "         sex              cp              restecg        slope    thal\n",
       "count    303             303                  303          303     303\n",
       "unique     2               4                    3            3       4\n",
       "top     male  typical angina  ST wave abnormality  downsloping  normal\n",
       "freq     207             143                  152          142     166"
      ]
     },
     "execution_count": 8,
     "metadata": {},
     "output_type": "execute_result"
    }
   ],
   "source": [
    "df.describe(include='object')"
   ]
  },
  {
   "cell_type": "markdown",
   "metadata": {},
   "source": [
    "All variables can be interpreted as numeric but on different scales. So to perform predictive analytics it might be necessary to scale them. Since all have continous values binning them would make analysis far easier to interpret."
   ]
  },
  {
   "cell_type": "code",
   "execution_count": 9,
   "metadata": {},
   "outputs": [
    {
     "name": "stdout",
     "output_type": "stream",
     "text": [
      "<class 'pandas.core.frame.DataFrame'>\n",
      "RangeIndex: 303 entries, 0 to 302\n",
      "Data columns (total 14 columns):\n",
      " #   Column    Non-Null Count  Dtype  \n",
      "---  ------    --------------  -----  \n",
      " 0   age       303 non-null    int64  \n",
      " 1   sex       303 non-null    object \n",
      " 2   cp        303 non-null    object \n",
      " 3   trestbps  303 non-null    int64  \n",
      " 4   chol      303 non-null    int64  \n",
      " 5   fbs       303 non-null    int64  \n",
      " 6   restecg   303 non-null    object \n",
      " 7   thalach   303 non-null    int64  \n",
      " 8   exang     303 non-null    int64  \n",
      " 9   oldpeak   303 non-null    float64\n",
      " 10  slope     303 non-null    object \n",
      " 11  ca        303 non-null    int64  \n",
      " 12  thal      303 non-null    object \n",
      " 13  target    303 non-null    int64  \n",
      "dtypes: float64(1), int64(8), object(5)\n",
      "memory usage: 33.3+ KB\n"
     ]
    }
   ],
   "source": [
    "df.info()"
   ]
  },
  {
   "cell_type": "markdown",
   "metadata": {},
   "source": [
    "There aren't any null values. Still let's check the number of null values by column"
   ]
  },
  {
   "cell_type": "code",
   "execution_count": 10,
   "metadata": {},
   "outputs": [
    {
     "data": {
      "text/plain": [
       "age         0\n",
       "sex         0\n",
       "cp          0\n",
       "trestbps    0\n",
       "chol        0\n",
       "fbs         0\n",
       "restecg     0\n",
       "thalach     0\n",
       "exang       0\n",
       "oldpeak     0\n",
       "slope       0\n",
       "ca          0\n",
       "thal        0\n",
       "target      0\n",
       "dtype: int64"
      ]
     },
     "execution_count": 10,
     "metadata": {},
     "output_type": "execute_result"
    }
   ],
   "source": [
    "df.isnull().sum()"
   ]
  },
  {
   "cell_type": "code",
   "execution_count": 11,
   "metadata": {},
   "outputs": [
    {
     "data": {
      "image/png": "[encoded data removed]",
      "text/plain": [
       "<Figure size 864x864 with 2 Axes>"
      ]
     },
     "metadata": {
      "needs_background": "light"
     },
     "output_type": "display_data"
    }
   ],
   "source": [
    "plt.figure(figsize=(12,12))\n",
    "corr=round(df.corr(),2)\n",
    "mask = np.triu(np.ones_like(corr, dtype=np.bool))\n",
    "#print(corr)\n",
    "sns.heatmap(corr,annot=True,fmt='.1f',mask=mask)\n",
    "plt.show()"
   ]
  },
  {
   "cell_type": "markdown",
   "metadata": {},
   "source": [
    "# Age Analysis"
   ]
  },
  {
   "cell_type": "code",
   "execution_count": 12,
   "metadata": {},
   "outputs": [
    {
     "data": {
      "text/plain": [
       "58    19\n",
       "57    17\n",
       "54    16\n",
       "59    14\n",
       "52    13\n",
       "51    12\n",
       "62    11\n",
       "44    11\n",
       "60    11\n",
       "56    11\n",
       "64    10\n",
       "41    10\n",
       "63     9\n",
       "67     9\n",
       "55     8\n",
       "45     8\n",
       "42     8\n",
       "53     8\n",
       "61     8\n",
       "65     8\n",
       "43     8\n",
       "66     7\n",
       "50     7\n",
       "48     7\n",
       "46     7\n",
       "49     5\n",
       "47     5\n",
       "39     4\n",
       "35     4\n",
       "68     4\n",
       "70     4\n",
       "40     3\n",
       "71     3\n",
       "69     3\n",
       "38     3\n",
       "34     2\n",
       "37     2\n",
       "77     1\n",
       "76     1\n",
       "74     1\n",
       "29     1\n",
       "Name: age, dtype: int64"
      ]
     },
     "execution_count": 12,
     "metadata": {},
     "output_type": "execute_result"
    }
   ],
   "source": [
    "df.age.value_counts()"
   ]
  },
  {
   "cell_type": "code",
   "execution_count": 13,
   "metadata": {},
   "outputs": [
    {
     "data": {
      "image/png": "[encoded data removed]",
      "text/plain": [
       "<Figure size 864x360 with 1 Axes>"
      ]
     },
     "metadata": {
      "needs_background": "light"
     },
     "output_type": "display_data"
    }
   ],
   "source": [
    "plt.figure(figsize=(12,5))\n",
    "sns.countplot(df['age'])\n",
    "plt.title('Most common age group')\n",
    "plt.show()"
   ]
  },
  {
   "cell_type": "markdown",
   "metadata": {},
   "source": [
    "The most common age group in the study was 57. People in the study have age between 29 and 77"
   ]
  },
  {
   "cell_type": "code",
   "execution_count": 14,
   "metadata": {},
   "outputs": [
    {
     "data": {
      "text/plain": [
       "1    165\n",
       "0    138\n",
       "Name: target, dtype: int64"
      ]
     },
     "execution_count": 14,
     "metadata": {},
     "output_type": "execute_result"
    }
   ],
   "source": [
    "df.target.value_counts()"
   ]
  },
  {
   "cell_type": "markdown",
   "metadata": {},
   "source": [
    "As per our study of 303 participants 165 of them have a heart disease and 138 don't. That makes up around 54% with disease"
   ]
  },
  {
   "cell_type": "code",
   "execution_count": 15,
   "metadata": {},
   "outputs": [
    {
     "data": {
      "image/png": "[encoded data removed]",
      "text/plain": [
       "<Figure size 504x288 with 1 Axes>"
      ]
     },
     "metadata": {
      "needs_background": "light"
     },
     "output_type": "display_data"
    }
   ],
   "source": [
    "plt.figure(figsize=(7,4))\n",
    "sns.countplot(x='sex', data=df, palette=\"mako_r\")\n",
    "plt.title('Gender distribution')\n",
    "plt.show()\n"
   ]
  },
  {
   "cell_type": "markdown",
   "metadata": {},
   "source": [
    "Let's now do the binning we've earlier discussed"
   ]
  },
  {
   "cell_type": "code",
   "execution_count": 16,
   "metadata": {},
   "outputs": [
    {
     "name": "stdout",
     "output_type": "stream",
     "text": [
      "Young Ages : 16\n",
      "Middle Ages : 128\n",
      "Elderly Ages : 151\n"
     ]
    }
   ],
   "source": [
    "young_ages=df[(df.age>=29)&(df.age<40)]\n",
    "middle_ages=df[(df.age>=40)&(df.age<55)]\n",
    "elderly_ages=df[(df.age>55)]\n",
    "print('Young Ages :',len(young_ages))\n",
    "print('Middle Ages :',len(middle_ages))\n",
    "print('Elderly Ages :',len(elderly_ages))"
   ]
  },
  {
   "cell_type": "code",
   "execution_count": 17,
   "metadata": {},
   "outputs": [
    {
     "data": {
      "image/png": "[encoded data removed]",
      "text/plain": [
       "<Figure size 432x288 with 1 Axes>"
      ]
     },
     "metadata": {
      "needs_background": "light"
     },
     "output_type": "display_data"
    }
   ],
   "source": [
    "sns.barplot(x=['young ages','middle ages','elderly ages'],y=[len(young_ages),len(middle_ages),len(elderly_ages)])\n",
    "plt.xlabel('Age Range')\n",
    "plt.ylabel('Age Counts')\n",
    "plt.title('Ages State in Dataset')\n",
    "plt.show()"
   ]
  },
  {
   "cell_type": "code",
   "execution_count": 18,
   "metadata": {},
   "outputs": [
    {
     "data": {
      "image/png": "[encoded data removed]",
      "text/plain": [
       "<Figure size 360x360 with 1 Axes>"
      ]
     },
     "metadata": {},
     "output_type": "display_data"
    }
   ],
   "source": [
    "colors = ['tan','gold','darkorange']\n",
    "explode = [0.1,0,0]\n",
    "plt.figure(figsize = (5,5))\n",
    "plt.pie([len(young_ages),len(middle_ages),len(elderly_ages)],labels=['young ages','middle ages','elderly ages'],explode=explode,colors=colors, autopct='%1.1f%%')\n",
    "plt.title('Age',color = 'olive',fontsize = 15)\n",
    "plt.show()"
   ]
  },
  {
   "cell_type": "code",
   "execution_count": 19,
   "metadata": {},
   "outputs": [
    {
     "data": {
      "text/html": [
       "<div>\n",
       "<style scoped>\n",
       "    .dataframe tbody tr th:only-of-type {\n",
       "        vertical-align: middle;\n",
       "    }\n",
       "\n",
       "    .dataframe tbody tr th {\n",
       "        vertical-align: top;\n",
       "    }\n",
       "\n",
       "    .dataframe thead th {\n",
       "        text-align: right;\n",
       "    }\n",
       "</style>\n",
       "<table border=\"1\" class=\"dataframe\">\n",
       "  <thead>\n",
       "    <tr style=\"text-align: right;\">\n",
       "      <th></th>\n",
       "      <th>age</th>\n",
       "      <th>trestbps</th>\n",
       "      <th>chol</th>\n",
       "      <th>fbs</th>\n",
       "      <th>thalach</th>\n",
       "      <th>exang</th>\n",
       "      <th>oldpeak</th>\n",
       "      <th>ca</th>\n",
       "    </tr>\n",
       "    <tr>\n",
       "      <th>target</th>\n",
       "      <th></th>\n",
       "      <th></th>\n",
       "      <th></th>\n",
       "      <th></th>\n",
       "      <th></th>\n",
       "      <th></th>\n",
       "      <th></th>\n",
       "      <th></th>\n",
       "    </tr>\n",
       "  </thead>\n",
       "  <tbody>\n",
       "    <tr>\n",
       "      <th>0</th>\n",
       "      <td>56.601449</td>\n",
       "      <td>134.398551</td>\n",
       "      <td>251.086957</td>\n",
       "      <td>0.159420</td>\n",
       "      <td>139.101449</td>\n",
       "      <td>0.550725</td>\n",
       "      <td>1.585507</td>\n",
       "      <td>1.166667</td>\n",
       "    </tr>\n",
       "    <tr>\n",
       "      <th>1</th>\n",
       "      <td>52.496970</td>\n",
       "      <td>129.303030</td>\n",
       "      <td>242.230303</td>\n",
       "      <td>0.139394</td>\n",
       "      <td>158.466667</td>\n",
       "      <td>0.139394</td>\n",
       "      <td>0.583030</td>\n",
       "      <td>0.363636</td>\n",
       "    </tr>\n",
       "  </tbody>\n",
       "</table>\n",
       "</div>"
      ],
      "text/plain": [
       "              age    trestbps        chol       fbs     thalach     exang  \\\n",
       "target                                                                      \n",
       "0       56.601449  134.398551  251.086957  0.159420  139.101449  0.550725   \n",
       "1       52.496970  129.303030  242.230303  0.139394  158.466667  0.139394   \n",
       "\n",
       "         oldpeak        ca  \n",
       "target                      \n",
       "0       1.585507  1.166667  \n",
       "1       0.583030  0.363636  "
      ]
     },
     "execution_count": 19,
     "metadata": {},
     "output_type": "execute_result"
    }
   ],
   "source": [
    "df.groupby('target').mean()"
   ]
  },
  {
   "cell_type": "code",
   "execution_count": 20,
   "metadata": {},
   "outputs": [
    {
     "data": {
      "text/html": [
       "<div>\n",
       "<style scoped>\n",
       "    .dataframe tbody tr th:only-of-type {\n",
       "        vertical-align: middle;\n",
       "    }\n",
       "\n",
       "    .dataframe tbody tr th {\n",
       "        vertical-align: top;\n",
       "    }\n",
       "\n",
       "    .dataframe thead th {\n",
       "        text-align: right;\n",
       "    }\n",
       "</style>\n",
       "<table border=\"1\" class=\"dataframe\">\n",
       "  <thead>\n",
       "    <tr style=\"text-align: right;\">\n",
       "      <th></th>\n",
       "      <th>age</th>\n",
       "      <th>trestbps</th>\n",
       "      <th>chol</th>\n",
       "      <th>fbs</th>\n",
       "      <th>thalach</th>\n",
       "      <th>exang</th>\n",
       "      <th>oldpeak</th>\n",
       "      <th>ca</th>\n",
       "    </tr>\n",
       "    <tr>\n",
       "      <th>target</th>\n",
       "      <th></th>\n",
       "      <th></th>\n",
       "      <th></th>\n",
       "      <th></th>\n",
       "      <th></th>\n",
       "      <th></th>\n",
       "      <th></th>\n",
       "      <th></th>\n",
       "    </tr>\n",
       "  </thead>\n",
       "  <tbody>\n",
       "    <tr>\n",
       "      <th>0</th>\n",
       "      <td>7.962082</td>\n",
       "      <td>18.729944</td>\n",
       "      <td>49.454614</td>\n",
       "      <td>0.367401</td>\n",
       "      <td>22.598782</td>\n",
       "      <td>0.499232</td>\n",
       "      <td>1.300340</td>\n",
       "      <td>1.043460</td>\n",
       "    </tr>\n",
       "    <tr>\n",
       "      <th>1</th>\n",
       "      <td>9.550651</td>\n",
       "      <td>16.169613</td>\n",
       "      <td>53.552872</td>\n",
       "      <td>0.347412</td>\n",
       "      <td>19.174276</td>\n",
       "      <td>0.347412</td>\n",
       "      <td>0.780683</td>\n",
       "      <td>0.848894</td>\n",
       "    </tr>\n",
       "  </tbody>\n",
       "</table>\n",
       "</div>"
      ],
      "text/plain": [
       "             age   trestbps       chol       fbs    thalach     exang  \\\n",
       "target                                                                  \n",
       "0       7.962082  18.729944  49.454614  0.367401  22.598782  0.499232   \n",
       "1       9.550651  16.169613  53.552872  0.347412  19.174276  0.347412   \n",
       "\n",
       "         oldpeak        ca  \n",
       "target                      \n",
       "0       1.300340  1.043460  \n",
       "1       0.780683  0.848894  "
      ]
     },
     "execution_count": 20,
     "metadata": {},
     "output_type": "execute_result"
    }
   ],
   "source": [
    "df.groupby('target').std()"
   ]
  },
  {
   "cell_type": "code",
   "execution_count": 21,
   "metadata": {},
   "outputs": [
    {
     "data": {
      "image/png": "[encoded data removed]",
      "text/plain": [
       "<Figure size 1296x576 with 1 Axes>"
      ]
     },
     "metadata": {
      "needs_background": "light"
     },
     "output_type": "display_data"
    }
   ],
   "source": [
    "pd.crosstab(df.age,df.target).plot(kind=\"bar\",figsize=(18,8))\n",
    "plt.title('Heart Disease Frequency for Ages')\n",
    "plt.xlabel('Age')\n",
    "plt.ylabel('Frequency')\n",
    "plt.savefig('heartDiseaseAndAges.png')\n",
    "plt.show()"
   ]
  },
  {
   "cell_type": "markdown",
   "metadata": {},
   "source": [
    "From age 29 to 77 we can see from the graph that\n",
    "\n",
    "    1. 54 to 67 aged people are not having heart disease with 8 as of average frequency \n",
    "    2. The frequency of having heart disease is increasing from 29 to 53."
   ]
  },
  {
   "cell_type": "code",
   "execution_count": 22,
   "metadata": {},
   "outputs": [
    {
     "data": {
      "image/png": "[encoded data removed]",
      "text/plain": [
       "<Figure size 720x360 with 1 Axes>"
      ]
     },
     "metadata": {
      "needs_background": "light"
     },
     "output_type": "display_data"
    }
   ],
   "source": [
    "pd.crosstab(df.sex,df.target).plot(kind=\"bar\",figsize=(10,5),color=['#1CA53B','#AA1111' ])\n",
    "plt.title('Heart Disease Frequency for Sex')\n",
    "plt.xticks(ticks=(0,1),labels=('Female', 'Male'))\n",
    "plt.xticks(rotation=0)\n",
    "plt.legend([\"Haven't Disease\", \"Have Disease\"])\n",
    "plt.ylabel('Frequency')\n",
    "plt.show()"
   ]
  },
  {
   "cell_type": "code",
   "execution_count": 23,
   "metadata": {},
   "outputs": [
    {
     "data": {
      "image/png": "[encoded data removed]",
      "text/plain": [
       "<Figure size 720x360 with 1 Axes>"
      ]
     },
     "metadata": {
      "needs_background": "light"
     },
     "output_type": "display_data"
    }
   ],
   "source": [
    "plt.figure(figsize=(10,5))\n",
    "plt.title('Age vs Max. Heart rate')\n",
    "plt.scatter(x=df.age[df.target==1], y=df.thalach[(df.target==1)], c=\"red\")\n",
    "plt.scatter(x=df.age[df.target==0], y=df.thalach[(df.target==0)])\n",
    "plt.legend([\"Disease\", \"Not Disease\"])\n",
    "plt.xlabel(\"Age\")\n",
    "plt.ylabel(\"Maximum Heart Rate\")\n",
    "plt.show()"
   ]
  },
  {
   "cell_type": "markdown",
   "metadata": {},
   "source": [
    "The region towards top left is critical since the number of cases of disease are predominant there"
   ]
  },
  {
   "cell_type": "code",
   "execution_count": 24,
   "metadata": {},
   "outputs": [
    {
     "data": {
      "image/png": "[encoded data removed]",
      "text/plain": [
       "<Figure size 576x288 with 1 Axes>"
      ]
     },
     "metadata": {
      "needs_background": "light"
     },
     "output_type": "display_data"
    }
   ],
   "source": [
    "pd.crosstab(df.slope,df.target).plot(kind=\"bar\",figsize=(8,4),color=['#FFC300','#581845' ])\n",
    "plt.title('Heart Disease Frequency for Slope')\n",
    "plt.xlabel('The Slope of The Peak Exercise ST Segment ')\n",
    "plt.xticks(rotation = 0)\n",
    "plt.ylabel('Frequency')\n",
    "plt.show()"
   ]
  },
  {
   "cell_type": "code",
   "execution_count": 25,
   "metadata": {},
   "outputs": [
    {
     "data": {
      "image/png": "[encoded data removed]",
      "text/plain": [
       "<Figure size 576x288 with 1 Axes>"
      ]
     },
     "metadata": {
      "needs_background": "light"
     },
     "output_type": "display_data"
    }
   ],
   "source": [
    "pd.crosstab(df.fbs,df.target).plot(kind=\"bar\",figsize=(8,4),color=['#FFC300','#581845' ])\n",
    "plt.title('Heart Disease Frequency According To FBS')\n",
    "plt.xlabel('FBS - (Fasting Blood Sugar > 120 mg/dl) (1 = true; 0 = false)')\n",
    "plt.xticks(rotation = 0)\n",
    "plt.legend([\"Haven't Disease\", \"Have Disease\"])\n",
    "plt.ylabel('Frequency of Disease or Not')\n",
    "plt.show()"
   ]
  },
  {
   "cell_type": "code",
   "execution_count": 26,
   "metadata": {},
   "outputs": [
    {
     "data": {
      "text/plain": [
       "typical angina      143\n",
       "non-anginal pain     87\n",
       "atypical angina      50\n",
       "asymptomatic         23\n",
       "Name: cp, dtype: int64"
      ]
     },
     "execution_count": 26,
     "metadata": {},
     "output_type": "execute_result"
    }
   ],
   "source": [
    "#chest pain field\n",
    "df.cp.value_counts()"
   ]
  },
  {
   "cell_type": "code",
   "execution_count": 27,
   "metadata": {},
   "outputs": [
    {
     "data": {
      "image/png": "[encoded data removed]",
      "text/plain": [
       "<Figure size 720x360 with 1 Axes>"
      ]
     },
     "metadata": {
      "needs_background": "light"
     },
     "output_type": "display_data"
    }
   ],
   "source": [
    "fig = plt.figure(figsize=(10,5))\n",
    "ax = fig.add_axes((1,1,1,1))\n",
    "sns.countplot(df.cp,ax=ax)\n",
    "plt.xlabel('Chestpain type')\n",
    "plt.ylabel('Count')\n",
    "plt.title('Chest Type vs Count State')\n",
    "plt.ylim(0,180)\n",
    "\n",
    "\n",
    "for p, label in zip(ax.patches, ['asymptomatic','non-anginal pain','atypical angina ','typical angina']):\n",
    "    ax.annotate(label, (p.get_x()+0.20, p.get_height()+0.15))"
   ]
  },
  {
   "cell_type": "code",
   "execution_count": 28,
   "metadata": {},
   "outputs": [
    {
     "data": {
      "text/plain": [
       "<Figure size 576x288 with 0 Axes>"
      ]
     },
     "metadata": {},
     "output_type": "display_data"
    },
    {
     "data": {
      "image/png": "[encoded data removed]",
      "text/plain": [
       "<Figure size 480.25x360 with 1 Axes>"
      ]
     },
     "metadata": {
      "needs_background": "light"
     },
     "output_type": "display_data"
    }
   ],
   "source": [
    "plt.figure(figsize=(8,4))\n",
    "sns.lmplot(x=\"trestbps\", y=\"chol\",data=df,hue=\"cp\")\n",
    "plt.show()\n"
   ]
  },
  {
   "cell_type": "code",
   "execution_count": 29,
   "metadata": {},
   "outputs": [
    {
     "data": {
      "text/plain": [
       "162    11\n",
       "160     9\n",
       "163     9\n",
       "173     8\n",
       "152     8\n",
       "125     7\n",
       "132     7\n",
       "150     7\n",
       "172     7\n",
       "143     7\n",
       "144     7\n",
       "156     6\n",
       "169     6\n",
       "158     6\n",
       "140     6\n",
       "142     6\n",
       "178     5\n",
       "161     5\n",
       "154     5\n",
       "165     5\n",
       "Name: thalach, dtype: int64"
      ]
     },
     "execution_count": 29,
     "metadata": {},
     "output_type": "execute_result"
    }
   ],
   "source": [
    "df.thalach.value_counts()[:20]\n"
   ]
  },
  {
   "cell_type": "code",
   "execution_count": 30,
   "metadata": {},
   "outputs": [
    {
     "data": {
      "image/png": "[encoded data removed]",
      "text/plain": [
       "<Figure size 1008x360 with 1 Axes>"
      ]
     },
     "metadata": {
      "needs_background": "light"
     },
     "output_type": "display_data"
    }
   ],
   "source": [
    "plt.figure(figsize=(14,5))\n",
    "sns.lineplot(x=df.thalach.value_counts().index,y=df.thalach.value_counts().values)\n",
    "plt.xlabel('Thalach')\n",
    "plt.ylabel('Count')\n",
    "plt.title('Thalach Counts')\n",
    "plt.xticks(rotation=45)\n",
    "plt.show()"
   ]
  },
  {
   "cell_type": "code",
   "execution_count": 31,
   "metadata": {},
   "outputs": [],
   "source": [
    "age_unique=sorted(df.age.unique())\n",
    "age_thalach_values=df.groupby('age')['thalach'].count().values\n",
    "mean_thalach=[]\n",
    "for i,age in enumerate(age_unique):\n",
    "    mean_thalach.append(sum(df[df['age']==age].thalach)/age_thalach_values[i])"
   ]
  },
  {
   "cell_type": "markdown",
   "metadata": {},
   "source": [
    "The transactions we perform in this section mean an average age. In this part, taking the average of all transactions is performed."
   ]
  },
  {
   "cell_type": "code",
   "execution_count": 32,
   "metadata": {},
   "outputs": [
    {
     "data": {
      "image/png": "[encoded data removed]",
      "text/plain": [
       "<Figure size 864x432 with 1 Axes>"
      ]
     },
     "metadata": {
      "needs_background": "light"
     },
     "output_type": "display_data"
    }
   ],
   "source": [
    "#data_sorted=data.sort_values(by='Age',ascending=True)\n",
    "plt.figure(figsize=(12,6))\n",
    "sns.pointplot(x=age_unique,y=mean_thalach,color='red',alpha=0.8)\n",
    "plt.xlabel('Age',fontsize = 15,color='blue')\n",
    "plt.xticks(rotation=45)\n",
    "plt.ylabel('Thalach',fontsize = 15,color='blue')\n",
    "plt.title('Age vs Thalach',fontsize = 15,color='blue')\n",
    "plt.grid()\n",
    "plt.show()"
   ]
  },
  {
   "cell_type": "code",
   "execution_count": 33,
   "metadata": {},
   "outputs": [],
   "source": [
    "cp_thalach=df.groupby('cp')['thalach'].mean()\n"
   ]
  },
  {
   "cell_type": "code",
   "execution_count": 34,
   "metadata": {},
   "outputs": [
    {
     "data": {
      "image/png": "[encoded data removed]",
      "text/plain": [
       "<Figure size 720x360 with 1 Axes>"
      ]
     },
     "metadata": {
      "needs_background": "light"
     },
     "output_type": "display_data"
    }
   ],
   "source": [
    "plt.figure(figsize=(10,5))\n",
    "sns.barplot(x=cp_thalach.index,y=cp_thalach.values)\n",
    "plt.xlabel('Degree of Chest Pain (Cp)')\n",
    "plt.ylabel('Maximum Thalach By Cp Values')\n",
    "plt.title('Illustration of thalach to degree of chest pain')\n",
    "plt.show()\n",
    "#As seen in this graph, it is seen that the heart rate is less \n",
    "#when the chest pain is low. But in cases where chest pain is \n",
    "#1, it is observed that the area is more. 2 and 3 were found to \n",
    "#be of the same degree."
   ]
  },
  {
   "cell_type": "code",
   "execution_count": 35,
   "metadata": {},
   "outputs": [
    {
     "data": {
      "text/plain": [
       "normal               166\n",
       "reversable defect    117\n",
       "fixed defect          18\n",
       "unknown                2\n",
       "Name: thal, dtype: int64"
      ]
     },
     "execution_count": 35,
     "metadata": {},
     "output_type": "execute_result"
    }
   ],
   "source": [
    "df.thal.value_counts()\n"
   ]
  },
  {
   "cell_type": "code",
   "execution_count": 36,
   "metadata": {},
   "outputs": [
    {
     "data": {
      "image/png": "[encoded data removed]",
      "text/plain": [
       "<Figure size 720x360 with 1 Axes>"
      ]
     },
     "metadata": {
      "needs_background": "light"
     },
     "output_type": "display_data"
    }
   ],
   "source": [
    "plt.figure(figsize=(10,5))\n",
    "sns.countplot(df.thal)\n",
    "plt.show()"
   ]
  },
  {
   "cell_type": "markdown",
   "metadata": {},
   "source": [
    "According to the analysis, Thal values are observed. Of these values, 0 is only 2. 1 showed a distribution of 18. In order to better understand this distribution, we need to take a look at the data set."
   ]
  },
  {
   "cell_type": "code",
   "execution_count": 37,
   "metadata": {},
   "outputs": [
    {
     "data": {
      "text/html": [
       "<div>\n",
       "<style scoped>\n",
       "    .dataframe tbody tr th:only-of-type {\n",
       "        vertical-align: middle;\n",
       "    }\n",
       "\n",
       "    .dataframe tbody tr th {\n",
       "        vertical-align: top;\n",
       "    }\n",
       "\n",
       "    .dataframe thead th {\n",
       "        text-align: right;\n",
       "    }\n",
       "</style>\n",
       "<table border=\"1\" class=\"dataframe\">\n",
       "  <thead>\n",
       "    <tr style=\"text-align: right;\">\n",
       "      <th></th>\n",
       "      <th>age</th>\n",
       "      <th>sex</th>\n",
       "      <th>cp</th>\n",
       "      <th>trestbps</th>\n",
       "      <th>chol</th>\n",
       "      <th>fbs</th>\n",
       "      <th>restecg</th>\n",
       "      <th>thalach</th>\n",
       "      <th>exang</th>\n",
       "      <th>oldpeak</th>\n",
       "      <th>slope</th>\n",
       "      <th>ca</th>\n",
       "      <th>thal</th>\n",
       "      <th>target</th>\n",
       "    </tr>\n",
       "  </thead>\n",
       "  <tbody>\n",
       "    <tr>\n",
       "      <th>48</th>\n",
       "      <td>53</td>\n",
       "      <td>female</td>\n",
       "      <td>non-anginal pain</td>\n",
       "      <td>128</td>\n",
       "      <td>216</td>\n",
       "      <td>0</td>\n",
       "      <td>normal</td>\n",
       "      <td>115</td>\n",
       "      <td>0</td>\n",
       "      <td>0.0</td>\n",
       "      <td>downsloping</td>\n",
       "      <td>0</td>\n",
       "      <td>unknown</td>\n",
       "      <td>1</td>\n",
       "    </tr>\n",
       "    <tr>\n",
       "      <th>281</th>\n",
       "      <td>52</td>\n",
       "      <td>male</td>\n",
       "      <td>typical angina</td>\n",
       "      <td>128</td>\n",
       "      <td>204</td>\n",
       "      <td>1</td>\n",
       "      <td>ST wave abnormality</td>\n",
       "      <td>156</td>\n",
       "      <td>1</td>\n",
       "      <td>1.0</td>\n",
       "      <td>flat</td>\n",
       "      <td>0</td>\n",
       "      <td>unknown</td>\n",
       "      <td>0</td>\n",
       "    </tr>\n",
       "  </tbody>\n",
       "</table>\n",
       "</div>"
      ],
      "text/plain": [
       "     age     sex                cp  trestbps  chol  fbs              restecg  \\\n",
       "48    53  female  non-anginal pain       128   216    0               normal   \n",
       "281   52    male    typical angina       128   204    1  ST wave abnormality   \n",
       "\n",
       "     thalach  exang  oldpeak        slope  ca     thal  target  \n",
       "48       115      0      0.0  downsloping   0  unknown       1  \n",
       "281      156      1      1.0         flat   0  unknown       0  "
      ]
     },
     "execution_count": 37,
     "metadata": {},
     "output_type": "execute_result"
    }
   ],
   "source": [
    "df[(df.thal=='unknown')]\n"
   ]
  },
  {
   "cell_type": "code",
   "execution_count": 38,
   "metadata": {},
   "outputs": [
    {
     "data": {
      "text/plain": [
       "normal               166\n",
       "reversable defect    117\n",
       "fixed defect          18\n",
       "unknown                2\n",
       "Name: thal, dtype: int64"
      ]
     },
     "execution_count": 38,
     "metadata": {},
     "output_type": "execute_result"
    }
   ],
   "source": [
    "df['thal'].value_counts()\n"
   ]
  },
  {
   "cell_type": "code",
   "execution_count": 39,
   "metadata": {},
   "outputs": [
    {
     "data": {
      "image/png": "[encoded data removed]",
      "text/plain": [
       "<Figure size 432x288 with 1 Axes>"
      ]
     },
     "metadata": {
      "needs_background": "light"
     },
     "output_type": "display_data"
    }
   ],
   "source": [
    "sns.barplot(x=df[(df['thal']=='fixed defect')].target.value_counts().index,y=df[(df['thal']=='fixed defect')].target.value_counts().values)\n",
    "plt.xlabel('Thal Value')\n",
    "plt.ylabel('Count')\n",
    "plt.title('Counter for Thal')\n",
    "plt.show()"
   ]
  },
  {
   "cell_type": "code",
   "execution_count": 40,
   "metadata": {},
   "outputs": [
    {
     "name": "stdout",
     "output_type": "stream",
     "text": [
      "Target 1 Thal 0:  1\n",
      "Target 1 Thal 1:  6\n",
      "Target 1 Thal 2:  130\n",
      "Target 1 Thal 3:  28\n",
      "**************************************************\n",
      "Target 0 Thal 0:  1\n",
      "Target 0 Thal 1:  12\n",
      "Target 0 Thal 2:  36\n",
      "Target 0 Thal 3:  89\n"
     ]
    }
   ],
   "source": [
    "#Target 1\n",
    "a=len(df[(df['target']==1)&(df['thal']=='unknown')])\n",
    "b=len(df[(df['target']==1)&(df['thal']=='fixed defect')])\n",
    "c=len(df[(df['target']==1)&(df['thal']=='normal')])\n",
    "d=len(df[(df['target']==1)&(df['thal']=='reversable defect')])\n",
    "print('Target 1 Thal 0: ',a)\n",
    "print('Target 1 Thal 1: ',b)\n",
    "print('Target 1 Thal 2: ',c)\n",
    "print('Target 1 Thal 3: ',d)\n",
    "\n",
    "\n",
    "print('*'*50)\n",
    "#Target 0\n",
    "e=len(df[(df['target']==0)&(df['thal']=='unknown')])\n",
    "f=len(df[(df['target']==0)&(df['thal']=='fixed defect')])\n",
    "g=len(df[(df['target']==0)&(df['thal']=='normal')])\n",
    "h=len(df[(df['target']==0)&(df['thal']=='reversable defect')])\n",
    "print('Target 0 Thal 0: ',e)\n",
    "print('Target 0 Thal 1: ',f)\n",
    "print('Target 0 Thal 2: ',g)\n",
    "print('Target 0 Thal 3: ',h)"
   ]
  },
  {
   "cell_type": "code",
   "execution_count": 41,
   "metadata": {},
   "outputs": [
    {
     "data": {
      "image/png": "[encoded data removed]",
      "text/plain": [
       "<Figure size 504x504 with 1 Axes>"
      ]
     },
     "metadata": {
      "needs_background": "light"
     },
     "output_type": "display_data"
    }
   ],
   "source": [
    "'''\n",
    "thal \n",
    "        -- Value 0: unknown\n",
    "        -- Value 1: fixed defect\n",
    "        -- Value 2: normal\n",
    "        -- Value 3: reversable defect \n",
    "\n",
    "'''\n",
    "\n",
    "f,ax=plt.subplots(figsize=(7,7))\n",
    "sns.barplot(y=['T 1&0 Th 0','T 1&0 Th 1','T 1&0 Th 2','Ta 1&0 Th 3'],x=[1,6,130,28],color='green',alpha=0.5,label='Target 1 Thal State')\n",
    "sns.barplot(y=['T 1&0 Th 0','T 1&0 Th 1','T 1&0 Th 2','Ta 1&0 Th 3'],x=[1,12,36,89],color='red',alpha=0.7,label='Target 0 Thal State')\n",
    "ax.legend(loc='upper right',frameon=True)\n",
    "ax.set(xlabel='Target State and Thal Counter',ylabel='Target State and Thal State',title='Target VS Thal')\n",
    "plt.xticks(rotation=90)\n",
    "plt.show()\n",
    "#so, there has been a very nice graphic display. This is the situation that best describes the situation."
   ]
  },
  {
   "cell_type": "code",
   "execution_count": 42,
   "metadata": {},
   "outputs": [
    {
     "data": {
      "text/plain": [
       "array([1, 0], dtype=int64)"
      ]
     },
     "execution_count": 42,
     "metadata": {},
     "output_type": "execute_result"
    }
   ],
   "source": [
    "df.target.unique()\n"
   ]
  },
  {
   "cell_type": "code",
   "execution_count": 43,
   "metadata": {},
   "outputs": [
    {
     "data": {
      "image/png": "[encoded data removed]",
      "text/plain": [
       "<Figure size 432x288 with 1 Axes>"
      ]
     },
     "metadata": {
      "needs_background": "light"
     },
     "output_type": "display_data"
    }
   ],
   "source": [
    "sns.countplot(df.target)\n",
    "plt.xlabel('Target')\n",
    "plt.ylabel('Count')\n",
    "plt.title('Target Counter 1 & 0')\n",
    "plt.show()"
   ]
  },
  {
   "cell_type": "code",
   "execution_count": 44,
   "metadata": {},
   "outputs": [],
   "source": [
    "age_counter_target_1=[]\n",
    "age_counter_target_0=[]\n",
    "for age in df.age.unique():\n",
    "    age_counter_target_1.append(len(df[(df['age']==age)&(df.target==1)]))\n",
    "    age_counter_target_0.append(len(df[(df['age']==age)&(df.target==0)]))"
   ]
  },
  {
   "cell_type": "code",
   "execution_count": 45,
   "metadata": {},
   "outputs": [
    {
     "data": {
      "image/png": "[encoded data removed]",
      "text/plain": [
       "<Figure size 432x288 with 1 Axes>"
      ]
     },
     "metadata": {
      "needs_background": "light"
     },
     "output_type": "display_data"
    }
   ],
   "source": [
    "#Target 1 & 0 show graph on scatter\n",
    "plt.scatter(x=df.age.unique(),y=age_counter_target_1,color='blue',label='Target 1')\n",
    "plt.scatter(x=df.age.unique(),y=age_counter_target_0,color='red',label='Target 0')\n",
    "plt.legend(loc='upper right',frameon=True)\n",
    "plt.xlabel('Age')\n",
    "plt.ylabel('Count')\n",
    "plt.title('Target 0 & Target 1 State')\n",
    "plt.show()"
   ]
  },
  {
   "cell_type": "markdown",
   "metadata": {},
   "source": [
    "It's a decent estimator, though there is an overlap there are areas where the ones with disease are more than the others"
   ]
  },
  {
   "cell_type": "code",
   "execution_count": 46,
   "metadata": {},
   "outputs": [
    {
     "data": {
      "text/html": [
       "<div>\n",
       "<style scoped>\n",
       "    .dataframe tbody tr th:only-of-type {\n",
       "        vertical-align: middle;\n",
       "    }\n",
       "\n",
       "    .dataframe tbody tr th {\n",
       "        vertical-align: top;\n",
       "    }\n",
       "\n",
       "    .dataframe thead th {\n",
       "        text-align: right;\n",
       "    }\n",
       "</style>\n",
       "<table border=\"1\" class=\"dataframe\">\n",
       "  <thead>\n",
       "    <tr style=\"text-align: right;\">\n",
       "      <th></th>\n",
       "      <th>age</th>\n",
       "      <th>trestbps</th>\n",
       "      <th>chol</th>\n",
       "      <th>fbs</th>\n",
       "      <th>thalach</th>\n",
       "      <th>exang</th>\n",
       "      <th>oldpeak</th>\n",
       "      <th>ca</th>\n",
       "      <th>target</th>\n",
       "    </tr>\n",
       "  </thead>\n",
       "  <tbody>\n",
       "    <tr>\n",
       "      <th>age</th>\n",
       "      <td>1.000000</td>\n",
       "      <td>0.279351</td>\n",
       "      <td>0.213678</td>\n",
       "      <td>0.121308</td>\n",
       "      <td>-0.398522</td>\n",
       "      <td>0.096801</td>\n",
       "      <td>0.210013</td>\n",
       "      <td>0.276326</td>\n",
       "      <td>-0.225439</td>\n",
       "    </tr>\n",
       "    <tr>\n",
       "      <th>trestbps</th>\n",
       "      <td>0.279351</td>\n",
       "      <td>1.000000</td>\n",
       "      <td>0.123174</td>\n",
       "      <td>0.177531</td>\n",
       "      <td>-0.046698</td>\n",
       "      <td>0.067616</td>\n",
       "      <td>0.193216</td>\n",
       "      <td>0.101389</td>\n",
       "      <td>-0.144931</td>\n",
       "    </tr>\n",
       "    <tr>\n",
       "      <th>chol</th>\n",
       "      <td>0.213678</td>\n",
       "      <td>0.123174</td>\n",
       "      <td>1.000000</td>\n",
       "      <td>0.013294</td>\n",
       "      <td>-0.009940</td>\n",
       "      <td>0.067023</td>\n",
       "      <td>0.053952</td>\n",
       "      <td>0.070511</td>\n",
       "      <td>-0.085239</td>\n",
       "    </tr>\n",
       "    <tr>\n",
       "      <th>fbs</th>\n",
       "      <td>0.121308</td>\n",
       "      <td>0.177531</td>\n",
       "      <td>0.013294</td>\n",
       "      <td>1.000000</td>\n",
       "      <td>-0.008567</td>\n",
       "      <td>0.025665</td>\n",
       "      <td>0.005747</td>\n",
       "      <td>0.137979</td>\n",
       "      <td>-0.028046</td>\n",
       "    </tr>\n",
       "    <tr>\n",
       "      <th>thalach</th>\n",
       "      <td>-0.398522</td>\n",
       "      <td>-0.046698</td>\n",
       "      <td>-0.009940</td>\n",
       "      <td>-0.008567</td>\n",
       "      <td>1.000000</td>\n",
       "      <td>-0.378812</td>\n",
       "      <td>-0.344187</td>\n",
       "      <td>-0.213177</td>\n",
       "      <td>0.421741</td>\n",
       "    </tr>\n",
       "    <tr>\n",
       "      <th>exang</th>\n",
       "      <td>0.096801</td>\n",
       "      <td>0.067616</td>\n",
       "      <td>0.067023</td>\n",
       "      <td>0.025665</td>\n",
       "      <td>-0.378812</td>\n",
       "      <td>1.000000</td>\n",
       "      <td>0.288223</td>\n",
       "      <td>0.115739</td>\n",
       "      <td>-0.436757</td>\n",
       "    </tr>\n",
       "    <tr>\n",
       "      <th>oldpeak</th>\n",
       "      <td>0.210013</td>\n",
       "      <td>0.193216</td>\n",
       "      <td>0.053952</td>\n",
       "      <td>0.005747</td>\n",
       "      <td>-0.344187</td>\n",
       "      <td>0.288223</td>\n",
       "      <td>1.000000</td>\n",
       "      <td>0.222682</td>\n",
       "      <td>-0.430696</td>\n",
       "    </tr>\n",
       "    <tr>\n",
       "      <th>ca</th>\n",
       "      <td>0.276326</td>\n",
       "      <td>0.101389</td>\n",
       "      <td>0.070511</td>\n",
       "      <td>0.137979</td>\n",
       "      <td>-0.213177</td>\n",
       "      <td>0.115739</td>\n",
       "      <td>0.222682</td>\n",
       "      <td>1.000000</td>\n",
       "      <td>-0.391724</td>\n",
       "    </tr>\n",
       "    <tr>\n",
       "      <th>target</th>\n",
       "      <td>-0.225439</td>\n",
       "      <td>-0.144931</td>\n",
       "      <td>-0.085239</td>\n",
       "      <td>-0.028046</td>\n",
       "      <td>0.421741</td>\n",
       "      <td>-0.436757</td>\n",
       "      <td>-0.430696</td>\n",
       "      <td>-0.391724</td>\n",
       "      <td>1.000000</td>\n",
       "    </tr>\n",
       "  </tbody>\n",
       "</table>\n",
       "</div>"
      ],
      "text/plain": [
       "               age  trestbps      chol       fbs   thalach     exang  \\\n",
       "age       1.000000  0.279351  0.213678  0.121308 -0.398522  0.096801   \n",
       "trestbps  0.279351  1.000000  0.123174  0.177531 -0.046698  0.067616   \n",
       "chol      0.213678  0.123174  1.000000  0.013294 -0.009940  0.067023   \n",
       "fbs       0.121308  0.177531  0.013294  1.000000 -0.008567  0.025665   \n",
       "thalach  -0.398522 -0.046698 -0.009940 -0.008567  1.000000 -0.378812   \n",
       "exang     0.096801  0.067616  0.067023  0.025665 -0.378812  1.000000   \n",
       "oldpeak   0.210013  0.193216  0.053952  0.005747 -0.344187  0.288223   \n",
       "ca        0.276326  0.101389  0.070511  0.137979 -0.213177  0.115739   \n",
       "target   -0.225439 -0.144931 -0.085239 -0.028046  0.421741 -0.436757   \n",
       "\n",
       "           oldpeak        ca    target  \n",
       "age       0.210013  0.276326 -0.225439  \n",
       "trestbps  0.193216  0.101389 -0.144931  \n",
       "chol      0.053952  0.070511 -0.085239  \n",
       "fbs       0.005747  0.137979 -0.028046  \n",
       "thalach  -0.344187 -0.213177  0.421741  \n",
       "exang     0.288223  0.115739 -0.436757  \n",
       "oldpeak   1.000000  0.222682 -0.430696  \n",
       "ca        0.222682  1.000000 -0.391724  \n",
       "target   -0.430696 -0.391724  1.000000  "
      ]
     },
     "execution_count": 46,
     "metadata": {},
     "output_type": "execute_result"
    }
   ],
   "source": [
    "df.corr()\n"
   ]
  },
  {
   "cell_type": "code",
   "execution_count": 47,
   "metadata": {},
   "outputs": [],
   "source": [
    "df_copy = df.copy(deep=True)\n",
    "df = df_org.copy(deep=True)"
   ]
  },
  {
   "cell_type": "code",
   "execution_count": 48,
   "metadata": {},
   "outputs": [
    {
     "name": "stdout",
     "output_type": "stream",
     "text": [
      "                                 OLS Regression Results                                \n",
      "=======================================================================================\n",
      "Dep. Variable:                 target   R-squared (uncentered):                   0.647\n",
      "Model:                            OLS   Adj. R-squared (uncentered):              0.639\n",
      "Method:                 Least Squares   F-statistic:                              77.65\n",
      "Date:                Sat, 26 Sep 2020   Prob (F-statistic):                    2.75e-63\n",
      "Time:                        15:59:16   Log-Likelihood:                         -179.91\n",
      "No. Observations:                 303   AIC:                                      373.8\n",
      "Df Residuals:                     296   BIC:                                      399.8\n",
      "Df Model:                           7                                                  \n",
      "Covariance Type:            nonrobust                                                  \n",
      "==============================================================================\n",
      "                 coef    std err          t      P>|t|      [0.025      0.975]\n",
      "------------------------------------------------------------------------------\n",
      "x1            -0.0024      0.003     -0.867      0.386      -0.008       0.003\n",
      "x2            -0.1978      0.053     -3.702      0.000      -0.303      -0.093\n",
      "x3             0.2180      0.025      8.773      0.000       0.169       0.267\n",
      "x4             0.0024      0.001      1.971      0.050    3.32e-06       0.005\n",
      "x5             0.0008      0.000      1.691      0.092      -0.000       0.002\n",
      "x6            -0.0666      0.073     -0.912      0.363      -0.210       0.077\n",
      "x7             0.1434      0.048      2.999      0.003       0.049       0.237\n",
      "==============================================================================\n",
      "Omnibus:                       21.185   Durbin-Watson:                   0.594\n",
      "Prob(Omnibus):                  0.000   Jarque-Bera (JB):                8.618\n",
      "Skew:                          -0.138   Prob(JB):                       0.0135\n",
      "Kurtosis:                       2.222   Cond. No.                         830.\n",
      "==============================================================================\n",
      "\n",
      "Warnings:\n",
      "[1] Standard Errors assume that the covariance matrix of the errors is correctly specified.\n"
     ]
    }
   ],
   "source": [
    "from statsmodels import regression\n",
    "X=np.append(arr=np.ones((303,1)).astype(int),values=df,axis=1)\n",
    "\n",
    "X_l=df.iloc[:,[0,1,2,3,4,5,6]].values\n",
    "r=regression.linear_model.OLS(endog=df.iloc[:,-1:],exog=X_l).fit()\n",
    "print(r.summary())"
   ]
  },
  {
   "cell_type": "markdown",
   "metadata": {},
   "source": [
    "We have shown the P-value. The purpose of this value is to see the integration values between our data. The scale methods that we will do for this situation will increase this situation even higher."
   ]
  },
  {
   "cell_type": "code",
   "execution_count": 49,
   "metadata": {},
   "outputs": [],
   "source": [
    "y = df.target.values\n",
    "x_data = df.drop(['target'], axis = 1)"
   ]
  },
  {
   "cell_type": "code",
   "execution_count": 50,
   "metadata": {},
   "outputs": [],
   "source": [
    "x = (x_data - np.min(x_data)) / (np.max(x_data) - np.min(x_data)).values\n"
   ]
  },
  {
   "cell_type": "code",
   "execution_count": 51,
   "metadata": {},
   "outputs": [],
   "source": [
    "x_train, x_test, y_train, y_test = train_test_split(x,y,test_size = 0.2,random_state=0)\n"
   ]
  },
  {
   "cell_type": "code",
   "execution_count": 52,
   "metadata": {},
   "outputs": [],
   "source": [
    "#transpose matrices\n",
    "x_train = x_train.T\n",
    "y_train = y_train.T\n",
    "x_test = x_test.T\n",
    "y_test = y_test.T"
   ]
  },
  {
   "cell_type": "code",
   "execution_count": 53,
   "metadata": {},
   "outputs": [
    {
     "name": "stdout",
     "output_type": "stream",
     "text": [
      "Test Accuracy 83.61%\n"
     ]
    }
   ],
   "source": [
    "lr = LogisticRegression()\n",
    "lr.fit(x_train.T,y_train.T)\n",
    "print(\"Test Accuracy {:.2f}%\".format(lr.score(x_test.T,y_test.T)*100))"
   ]
  },
  {
   "cell_type": "code",
   "execution_count": 54,
   "metadata": {},
   "outputs": [
    {
     "name": "stdout",
     "output_type": "stream",
     "text": [
      "3 NN Score: 86.89%\n"
     ]
    }
   ],
   "source": [
    "# KNN Model\n",
    "knn = KNeighborsClassifier(n_neighbors = 3)  # n_neighbors means k\n",
    "knn.fit(x_train.T, y_train.T)\n",
    "prediction = knn.predict(x_test.T)\n",
    "\n",
    "print(\"{} NN Score: {:.2f}%\".format(3, knn.score(x_test.T, y_test.T)*100))"
   ]
  },
  {
   "cell_type": "code",
   "execution_count": 55,
   "metadata": {},
   "outputs": [
    {
     "data": {
      "image/png": "[encoded data removed]",
      "text/plain": [
       "<Figure size 432x288 with 1 Axes>"
      ]
     },
     "metadata": {
      "needs_background": "light"
     },
     "output_type": "display_data"
    },
    {
     "name": "stdout",
     "output_type": "stream",
     "text": [
      "Maximum KNN Score is 90.16%\n"
     ]
    }
   ],
   "source": [
    "# try ro find best k value\n",
    "scoreList = []\n",
    "for i in range(1,20):\n",
    "    knn2 = KNeighborsClassifier(n_neighbors = i)  # n_neighbors means k\n",
    "    knn2.fit(x_train.T, y_train.T)\n",
    "    scoreList.append(knn2.score(x_test.T, y_test.T))\n",
    "    \n",
    "plt.plot(range(1,20), scoreList)\n",
    "plt.xticks(np.arange(1,20,1))\n",
    "plt.xlabel(\"K value\")\n",
    "plt.ylabel(\"Score\")\n",
    "plt.show()\n",
    "\n",
    "print(\"Maximum KNN Score is {:.2f}%\".format((max(scoreList))*100))"
   ]
  },
  {
   "cell_type": "markdown",
   "metadata": {},
   "source": [
    "The best number of neighbors is 7. so let's build a model with 7 neigbors"
   ]
  },
  {
   "cell_type": "code",
   "execution_count": 56,
   "metadata": {},
   "outputs": [
    {
     "name": "stdout",
     "output_type": "stream",
     "text": [
      "7 NN Score: 90.16%\n"
     ]
    }
   ],
   "source": [
    "knn = KNeighborsClassifier(n_neighbors = 7)  # n_neighbors means k\n",
    "knn.fit(x_train.T, y_train.T)\n",
    "prediction = knn.predict(x_test.T)\n",
    "\n",
    "print(\"{} NN Score: {:.2f}%\".format(7, knn.score(x_test.T, y_test.T)*100))"
   ]
  },
  {
   "cell_type": "code",
   "execution_count": 57,
   "metadata": {},
   "outputs": [
    {
     "name": "stdout",
     "output_type": "stream",
     "text": [
      "Test Accuracy of SVM Algorithm: 83.61%\n"
     ]
    }
   ],
   "source": [
    "svm = SVC(random_state = 1)\n",
    "svm.fit(x_train.T, y_train.T)\n",
    "print(\"Test Accuracy of SVM Algorithm: {:.2f}%\".format(svm.score(x_test.T,y_test.T)*100))"
   ]
  },
  {
   "cell_type": "code",
   "execution_count": 58,
   "metadata": {},
   "outputs": [
    {
     "name": "stdout",
     "output_type": "stream",
     "text": [
      "Accuracy of Naive Bayes: 85.25%\n"
     ]
    }
   ],
   "source": [
    "nb = GaussianNB()\n",
    "nb.fit(x_train.T, y_train.T)\n",
    "print(\"Accuracy of Naive Bayes: {:.2f}%\".format(nb.score(x_test.T,y_test.T)*100))"
   ]
  },
  {
   "cell_type": "code",
   "execution_count": 59,
   "metadata": {},
   "outputs": [
    {
     "name": "stdout",
     "output_type": "stream",
     "text": [
      "Decision Tree Test Accuracy 77.05%\n"
     ]
    }
   ],
   "source": [
    "dtc = DecisionTreeClassifier()\n",
    "dtc.fit(x_train.T, y_train.T)\n",
    "print(\"Decision Tree Test Accuracy {:.2f}%\".format(dtc.score(x_test.T, y_test.T)*100))"
   ]
  },
  {
   "cell_type": "code",
   "execution_count": 60,
   "metadata": {},
   "outputs": [
    {
     "name": "stdout",
     "output_type": "stream",
     "text": [
      "Random Forest Algorithm Accuracy Score : 85.25%\n"
     ]
    }
   ],
   "source": [
    "# Random Forest Classification\n",
    "rf = RandomForestClassifier(n_estimators = 1000, random_state = 1)\n",
    "rf.fit(x_train.T, y_train.T)\n",
    "print(\"Random Forest Algorithm Accuracy Score : {:.2f}%\".format(rf.score(x_test.T,y_test.T)*100))"
   ]
  },
  {
   "cell_type": "code",
   "execution_count": 61,
   "metadata": {},
   "outputs": [
    {
     "data": {
      "image/png": "[encoded data removed]",
      "text/plain": [
       "<Figure size 864x360 with 1 Axes>"
      ]
     },
     "metadata": {},
     "output_type": "display_data"
    }
   ],
   "source": [
    "methods = [\"Logistic Regression\", \"KNN\", \"SVM\", \"Naive Bayes\", \"Decision Tree\", \"Random Forest\"]\n",
    "accuracy = [85.25, 90.16, 81.97, 85.25, 75.41, 85.25]\n",
    "colors = [\"purple\", \"green\", \"orange\", \"magenta\",\"#CFC60E\",\"#0FBBAE\"]\n",
    "\n",
    "sns.set_style(\"whitegrid\")\n",
    "plt.figure(figsize=(12,5)) \n",
    "plt.yticks(np.arange(70,100,10))\n",
    "plt.ylabel(\"Accuracy %\")\n",
    "plt.xlabel(\"Algorithms\")\n",
    "sns.barplot(x=methods, y=accuracy, palette=colors)\n",
    "plt.show()"
   ]
  },
  {
   "cell_type": "markdown",
   "metadata": {},
   "source": [
    "The obvious response would be KNN with 7 neighbors. But we can surely improve the rest of the models and probably even get them to that scale with hyperparameter tuning. If we also use the cross_validation any overfit in the KNN would also be identified"
   ]
  },
  {
   "cell_type": "code",
   "execution_count": 62,
   "metadata": {},
   "outputs": [],
   "source": [
    "y_head_lr = lr.predict(x_test.T)\n",
    "knn3 = KNeighborsClassifier(n_neighbors = 7)\n",
    "knn3.fit(x_train.T, y_train.T)\n",
    "y_head_knn = knn3.predict(x_test.T)\n",
    "y_head_svm = svm.predict(x_test.T)\n",
    "y_head_nb = nb.predict(x_test.T)\n",
    "y_head_dtc = dtc.predict(x_test.T)\n",
    "y_head_rf = rf.predict(x_test.T)"
   ]
  },
  {
   "cell_type": "code",
   "execution_count": 63,
   "metadata": {},
   "outputs": [],
   "source": [
    "cm_lr = confusion_matrix(y_test,y_head_lr)\n",
    "cm_knn = confusion_matrix(y_test,y_head_knn)\n",
    "cm_svm = confusion_matrix(y_test,y_head_svm)\n",
    "cm_nb = confusion_matrix(y_test,y_head_nb)\n",
    "cm_dtc = confusion_matrix(y_test,y_head_dtc)\n",
    "cm_rf = confusion_matrix(y_test,y_head_rf)"
   ]
  },
  {
   "cell_type": "code",
   "execution_count": 64,
   "metadata": {},
   "outputs": [
    {
     "data": {
      "image/png": "[encoded data removed]",
      "text/plain": [
       "<Figure size 1440x864 with 6 Axes>"
      ]
     },
     "metadata": {},
     "output_type": "display_data"
    }
   ],
   "source": [
    "plt.figure(figsize=(20,12))\n",
    "\n",
    "plt.suptitle(\"Confusion Matrixes\",fontsize=10)\n",
    "plt.subplots_adjust(wspace = 0.4, hspace= 0.4)\n",
    "\n",
    "plt.subplot(2,3,1)\n",
    "plt.title(\"Logistic Regression Confusion Matrix\")\n",
    "sns.heatmap(cm_lr,annot=True,cmap=\"Greens\",fmt=\"d\",cbar=False)\n",
    "\n",
    "plt.subplot(2,3,2)\n",
    "plt.title(\"K Nearest Neighbors Confusion Matrix\")\n",
    "sns.heatmap(cm_knn,annot=True,cmap=\"Reds\",fmt=\"d\",cbar=False)\n",
    "\n",
    "plt.subplot(2,3,3)\n",
    "plt.title(\"Support Vector Machine Confusion Matrix\")\n",
    "sns.heatmap(cm_svm,annot=True,cmap=\"Greens\",fmt=\"d\",cbar=False)\n",
    "\n",
    "plt.subplot(2,3,4)\n",
    "plt.title(\"Naive Bayes Confusion Matrix\")\n",
    "sns.heatmap(cm_nb,annot=True,cmap=\"Reds\",fmt=\"d\",cbar=False)\n",
    "\n",
    "plt.subplot(2,3,5)\n",
    "plt.title(\"Decision Tree Classifier Confusion Matrix\")\n",
    "sns.heatmap(cm_dtc,annot=True,cmap=\"Greens\",fmt=\"d\",cbar=False)\n",
    "\n",
    "plt.subplot(2,3,6)\n",
    "plt.title(\"Random Forest Confusion Matrix\")\n",
    "sns.heatmap(cm_rf,annot=True,cmap=\"Reds\",fmt=\"d\",cbar=False)\n",
    "\n",
    "plt.show()"
   ]
  },
  {
   "cell_type": "code",
   "execution_count": 65,
   "metadata": {},
   "outputs": [
    {
     "name": "stdout",
     "output_type": "stream",
     "text": [
      "                                 OLS Regression Results                                \n",
      "=======================================================================================\n",
      "Dep. Variable:                 target   R-squared (uncentered):                   0.647\n",
      "Model:                            OLS   Adj. R-squared (uncentered):              0.639\n",
      "Method:                 Least Squares   F-statistic:                              77.65\n",
      "Date:                Sat, 26 Sep 2020   Prob (F-statistic):                    2.75e-63\n",
      "Time:                        15:59:48   Log-Likelihood:                         -179.91\n",
      "No. Observations:                 303   AIC:                                      373.8\n",
      "Df Residuals:                     296   BIC:                                      399.8\n",
      "Df Model:                           7                                                  \n",
      "Covariance Type:            nonrobust                                                  \n",
      "==============================================================================\n",
      "                 coef    std err          t      P>|t|      [0.025      0.975]\n",
      "------------------------------------------------------------------------------\n",
      "x1            -0.0024      0.003     -0.867      0.386      -0.008       0.003\n",
      "x2            -0.1978      0.053     -3.702      0.000      -0.303      -0.093\n",
      "x3             0.2180      0.025      8.773      0.000       0.169       0.267\n",
      "x4             0.0024      0.001      1.971      0.050    3.32e-06       0.005\n",
      "x5             0.0008      0.000      1.691      0.092      -0.000       0.002\n",
      "x6            -0.0666      0.073     -0.912      0.363      -0.210       0.077\n",
      "x7             0.1434      0.048      2.999      0.003       0.049       0.237\n",
      "==============================================================================\n",
      "Omnibus:                       21.185   Durbin-Watson:                   0.594\n",
      "Prob(Omnibus):                  0.000   Jarque-Bera (JB):                8.618\n",
      "Skew:                          -0.138   Prob(JB):                       0.0135\n",
      "Kurtosis:                       2.222   Cond. No.                         830.\n",
      "==============================================================================\n",
      "\n",
      "Warnings:\n",
      "[1] Standard Errors assume that the covariance matrix of the errors is correctly specified.\n"
     ]
    }
   ],
   "source": [
    "X=np.append(arr=np.ones((303,1)).astype(int),values=df,axis=1)\n",
    "\n",
    "X_l=df.iloc[:,[0,1,2,3,4,5,6]].values\n",
    "r=sm.regression.linear_model.OLS(endog=df.iloc[:,-1:],exog=X_l).fit()\n",
    "print(r.summary())"
   ]
  },
  {
   "cell_type": "code",
   "execution_count": 66,
   "metadata": {},
   "outputs": [],
   "source": [
    "dataX=df.drop('target',axis=1)\n",
    "dataY=df['target']"
   ]
  },
  {
   "cell_type": "code",
   "execution_count": 67,
   "metadata": {},
   "outputs": [],
   "source": [
    "X_train,X_test,y_train,y_test=train_test_split(dataX,dataY,test_size=0.2,random_state=42)"
   ]
  },
  {
   "cell_type": "code",
   "execution_count": 68,
   "metadata": {},
   "outputs": [
    {
     "name": "stdout",
     "output_type": "stream",
     "text": [
      "X_train (242, 13)\n",
      "X_test (61, 13)\n",
      "y_train (242,)\n",
      "y_test (61,)\n"
     ]
    }
   ],
   "source": [
    "print('X_train',X_train.shape)\n",
    "print('X_test',X_test.shape)\n",
    "print('y_train',y_train.shape)\n",
    "print('y_test',y_test.shape)\n",
    "#X_train (242, 13)"
   ]
  },
  {
   "cell_type": "markdown",
   "metadata": {},
   "source": [
    "The difference in value between our data is too big. It increases both the volume and the results are very bad. To reduce this situation we need to use the StandardScaler function. A value of -1.1 will be obtained after using it."
   ]
  },
  {
   "cell_type": "code",
   "execution_count": 69,
   "metadata": {},
   "outputs": [],
   "source": [
    "#Normalization as the first process\n",
    "# Normalize\n",
    "X_train=(X_train-np.min(X_train))/(np.max(X_train)-np.min(X_train)).values\n",
    "X_test=(X_test-np.min(X_test))/(np.max(X_test)-np.min(X_test)).values"
   ]
  },
  {
   "cell_type": "markdown",
   "metadata": {},
   "source": [
    "The diagonal values we see in these correlation values are always 1.0. That doesn't mean much to us. But the minus value is a big problem for me, but the value of the transactions are more valuable for us.\n",
    "\n",
    "Now it is time to implement PCA to the data set.\n",
    "\n",
    "But, before that, I will investigate the explained variance ratio and resulting principal components:"
   ]
  },
  {
   "cell_type": "code",
   "execution_count": 70,
   "metadata": {},
   "outputs": [
    {
     "name": "stdout",
     "output_type": "stream",
     "text": [
      "[0.27173097 0.19243203 0.11711389 0.08507425 0.08130784 0.06387459\n",
      " 0.05517117 0.03314911 0.03074089 0.02484146 0.01832923 0.01605866\n",
      " 0.0101759 ]\n",
      "\n",
      "['age', 'sex', 'cp', 'trestbps', 'chol', 'fbs', 'restecg', 'thalach', 'exang', 'oldpeak', 'slope', 'ca', 'thal']\n",
      "[[ 5.76307904e-02  4.99360368e-01 -3.09161586e-01  5.19394916e-03\n",
      "  -8.17751585e-03  6.54357159e-03 -2.65560676e-02 -1.65171166e-01\n",
      "   7.21082161e-01  1.65855116e-01 -2.16193413e-01  1.10017440e-01\n",
      "   1.31540078e-01]\n",
      " [ 1.01758630e-01 -8.46514586e-01 -2.38970937e-01  4.88191372e-02\n",
      "   6.23763767e-02 -7.79433333e-02  2.34304667e-02 -1.23865911e-01\n",
      "   4.02940147e-01  5.32800990e-02 -1.44254962e-01 -3.54206224e-02\n",
      "  -2.11293208e-02]\n",
      " [ 1.47996225e-01 -7.21500492e-02  3.98091819e-01  1.37692024e-01\n",
      "   2.98971997e-02  8.24074790e-01 -1.27963911e-01 -5.35482623e-02\n",
      "   7.38648738e-02  1.01386177e-01 -2.65396746e-01  9.23100668e-02\n",
      "  -3.90929591e-02]\n",
      " [ 1.62320708e-01  2.03806848e-02 -2.38305760e-01  1.10497897e-02\n",
      "   9.88869452e-03 -1.75088957e-01 -7.00300776e-02 -1.77693467e-01\n",
      "  -4.86516024e-01  3.20473926e-01 -6.70165395e-01  2.45348160e-01\n",
      "   1.93136697e-02]\n",
      " [-1.49422624e-01  1.46366159e-02  6.56798307e-01 -6.14829399e-02\n",
      "  -5.99613270e-02 -3.72855785e-01  2.04137969e-01  3.49546840e-02\n",
      "   2.02723887e-01  1.49318314e-01 -4.10085564e-01 -3.53164851e-01\n",
      "  -2.22492244e-02]\n",
      " [-9.59441368e-02  1.48290586e-03 -1.67372322e-01 -4.13686491e-02\n",
      "  -6.45075703e-02  2.43171274e-01  9.38198363e-01 -5.59969651e-03\n",
      "  -7.56373716e-02  3.67110455e-02 -3.55937640e-02  4.05173452e-02\n",
      "   8.68870500e-02]\n",
      " [ 3.17432459e-01 -4.29747121e-02  4.00333356e-01  9.72521915e-02\n",
      "   2.81141877e-02 -2.66122508e-01  1.57274643e-01 -1.70847643e-01\n",
      "   8.86792908e-02  1.06029287e-01  2.80682609e-01  7.08856837e-01\n",
      "   4.19788898e-02]\n",
      " [-2.15902976e-01  2.26200340e-02 -2.77241584e-02 -3.27513346e-01\n",
      "  -1.90570100e-01  2.43535339e-02  1.40865648e-02 -1.30829321e-01\n",
      "   8.32623149e-02 -1.66402911e-01 -9.80269742e-02  2.43074155e-01\n",
      "  -8.29034947e-01]\n",
      " [ 5.34430816e-01  1.39861441e-01 -3.09879492e-02  3.83571262e-01\n",
      "   2.79690185e-02 -5.79667624e-02  1.33606600e-01 -4.28804134e-01\n",
      "  -6.76761529e-02 -4.98799780e-02  1.22644428e-01 -4.33012091e-01\n",
      "  -3.62298211e-01]\n",
      " [ 1.55755363e-01 -3.00119939e-02  8.93049573e-02 -6.67972021e-01\n",
      "  -9.60807296e-02  7.04340174e-02 -4.65212104e-02 -5.67593159e-01\n",
      "  -6.27175399e-02 -2.28142070e-01  3.26810087e-02 -1.17316802e-01\n",
      "   3.33684434e-01]\n",
      " [ 3.80718106e-01  3.58099179e-02 -9.17634005e-04  4.39600893e-02\n",
      "  -7.85382368e-02 -7.11716958e-02  6.49913620e-02  3.48898150e-01\n",
      "   6.30901505e-02 -7.54278770e-01 -3.50936762e-01  1.11481243e-01\n",
      "   7.84160206e-02]\n",
      " [ 4.72698128e-01  3.59354732e-02 -2.96854478e-02 -5.05643079e-01\n",
      "   4.22991081e-01  2.50081892e-02  6.11092096e-02  4.36084490e-01\n",
      "   3.57407082e-02  3.06263666e-01  7.15640113e-02 -1.06963926e-01\n",
      "  -1.83359128e-01]\n",
      " [-2.84424493e-01  5.31103045e-02  4.23632182e-02  7.33012892e-02\n",
      "   8.68955262e-01 -2.33818434e-02  5.16858910e-02 -2.39667148e-01\n",
      "  -1.18305072e-02 -2.77171619e-01 -1.03329578e-01  6.97315928e-02\n",
      "  -2.94785833e-02]]\n"
     ]
    }
   ],
   "source": [
    "pca=PCA().fit(X_train)\n",
    "print(pca.explained_variance_ratio_)\n",
    "print()\n",
    "print(X_train.columns.values.tolist())\n",
    "print(pca.components_)"
   ]
  },
  {
   "cell_type": "code",
   "execution_count": 71,
   "metadata": {},
   "outputs": [
    {
     "data": {
      "image/png": "[encoded data removed]",
      "text/plain": [
       "<Figure size 432x288 with 1 Axes>"
      ]
     },
     "metadata": {},
     "output_type": "display_data"
    }
   ],
   "source": [
    "cumulative=np.cumsum(pca.explained_variance_ratio_)\n",
    "plt.title('Cummulative increase in variance with features')\n",
    "plt.step([i for i in range(len(cumulative))],cumulative)\n",
    "plt.xlabel('No. of Features')\n",
    "plt.ylabel('Explained Variance')\n",
    "plt.show()"
   ]
  },
  {
   "cell_type": "markdown",
   "metadata": {},
   "source": [
    "When you see the graph above, you can notice that after 8 components are added, the variance captured by data is almost as much as captured by all the features combined.\n",
    "The reduced data can be seen on the plotting below."
   ]
  },
  {
   "cell_type": "code",
   "execution_count": 72,
   "metadata": {},
   "outputs": [
    {
     "data": {
      "image/png": "[encoded data removed]",
      "text/plain": [
       "<Figure size 432x288 with 1 Axes>"
      ]
     },
     "metadata": {},
     "output_type": "display_data"
    }
   ],
   "source": [
    "pca = PCA(n_components=8)\n",
    "pca.fit(X_train)\n",
    "reduced_data_train = pca.transform(X_train)\n",
    "#inverse_data = pca.inverse_transform(reduced_data)\n",
    "plt.scatter(reduced_data_train[:, 0], reduced_data_train[:, 1], label='reduced')\n",
    "plt.xlabel('First Principal Component')\n",
    "plt.ylabel('Second Principal Component')\n",
    "plt.show()"
   ]
  },
  {
   "cell_type": "code",
   "execution_count": 73,
   "metadata": {},
   "outputs": [
    {
     "data": {
      "image/png": "[encoded data removed]",
      "text/plain": [
       "<Figure size 432x288 with 1 Axes>"
      ]
     },
     "metadata": {},
     "output_type": "display_data"
    }
   ],
   "source": [
    "pca = PCA(n_components=8)\n",
    "pca.fit(X_test)\n",
    "reduced_data_test = pca.transform(X_test)\n",
    "#inverse_data = pca.inverse_transform(reduced_data)\n",
    "plt.scatter(reduced_data_test[:, 0], reduced_data_test[:, 1], label='reduced')\n",
    "plt.xlabel('First Principal Component')\n",
    "plt.ylabel('Second Principal Component')\n",
    "plt.show()"
   ]
  },
  {
   "cell_type": "code",
   "execution_count": 74,
   "metadata": {},
   "outputs": [],
   "source": [
    "reduced_data_train = pd.DataFrame(reduced_data_train, columns=['Dim1', 'Dim2','Dim3','Dim4','Dim5','Dim6','Dim7','Dim8'])\n",
    "reduced_data_test = pd.DataFrame(reduced_data_test, columns=['Dim1', 'Dim2','Dim3','Dim4','Dim5','Dim6','Dim7','Dim8'])\n",
    "X_train=reduced_data_train\n",
    "X_test=reduced_data_test"
   ]
  },
  {
   "cell_type": "code",
   "execution_count": 75,
   "metadata": {},
   "outputs": [],
   "source": [
    "def plot_roc_(false_positive_rate,true_positive_rate,roc_auc):\n",
    "    plt.figure(figsize=(5,5))\n",
    "    plt.title('Receiver Operating Characteristic')\n",
    "    plt.plot(false_positive_rate,true_positive_rate, color='red',label = 'AUC = %0.2f' % roc_auc)\n",
    "    plt.legend(loc = 'lower right')\n",
    "    plt.plot([0, 1], [0, 1],linestyle='--')\n",
    "    plt.axis('tight')\n",
    "    plt.ylabel('True Positive Rate')\n",
    "    plt.xlabel('False Positive Rate')\n",
    "    plt.show()\n",
    "    \n",
    "def plot_feature_importances(gbm):\n",
    "    n_features = X_train.shape[1]\n",
    "    plt.barh(range(n_features), gbm.feature_importances_, align='center')\n",
    "    plt.yticks(np.arange(n_features), X_train.columns)\n",
    "    plt.xlabel(\"Feature importance\")\n",
    "    plt.ylabel(\"Feature\")\n",
    "    plt.ylim(-1, n_features)"
   ]
  },
  {
   "cell_type": "code",
   "execution_count": 76,
   "metadata": {},
   "outputs": [],
   "source": [
    "combine_features_list=[\n",
    "    ('Dim1','Dim2','Dim3'),\n",
    "    ('Dim4','Dim5','Dim5','Dim6'),\n",
    "    ('Dim7','Dim8','Dim1'),\n",
    "    ('Dim4','Dim8','Dim5')\n",
    "]"
   ]
  },
  {
   "cell_type": "code",
   "execution_count": 77,
   "metadata": {
    "scrolled": false
   },
   "outputs": [
    {
     "name": "stdout",
     "output_type": "stream",
     "text": [
      "('Dim1', 'Dim2', 'Dim3')\n",
      "**************************************************\n",
      "Best parameters set:\n",
      "{'C': 0.4, 'penalty': 'l2', 'random_state': 0}\n",
      "\n",
      "Train Classification Report:\n",
      "**************************************************\n",
      "              precision    recall  f1-score   support\n",
      "\n",
      "           0       0.81      0.62      0.70       109\n",
      "           1       0.74      0.88      0.80       133\n",
      "\n",
      "    accuracy                           0.76       242\n",
      "   macro avg       0.78      0.75      0.75       242\n",
      "weighted avg       0.77      0.76      0.76       242\n",
      "\n",
      "**************************************************\n",
      "Train Confusion Matrix:\n",
      "[[ 68  41]\n",
      " [ 16 117]]\n",
      "**************************************************\n",
      "Test Classification Report:\n",
      "**************************************************\n",
      "              precision    recall  f1-score   support\n",
      "\n",
      "           0       0.85      0.76      0.80        29\n",
      "           1       0.80      0.88      0.84        32\n",
      "\n",
      "    accuracy                           0.82        61\n",
      "   macro avg       0.82      0.82      0.82        61\n",
      "weighted avg       0.82      0.82      0.82        61\n",
      "\n",
      "**************************************************\n",
      "Test Confusion Matrix:\n",
      "[[22  7]\n",
      " [ 4 28]]\n",
      "**************************************************\n",
      "**************************************************\n",
      "0.8267857142857143\n",
      "0.08437626850198443\n",
      "**************************************************\n",
      "('Dim4', 'Dim5', 'Dim5', 'Dim6')\n",
      "**************************************************\n",
      "Best parameters set:\n",
      "{'C': 0.5, 'penalty': 'l2', 'random_state': 0}\n",
      "\n",
      "Train Classification Report:\n",
      "**************************************************\n",
      "              precision    recall  f1-score   support\n",
      "\n",
      "           0       0.64      0.43      0.52       109\n",
      "           1       0.63      0.80      0.71       133\n",
      "\n",
      "    accuracy                           0.64       242\n",
      "   macro avg       0.64      0.62      0.61       242\n",
      "weighted avg       0.64      0.64      0.62       242\n",
      "\n",
      "**************************************************\n",
      "Train Confusion Matrix:\n",
      "[[ 47  62]\n",
      " [ 26 107]]\n",
      "**************************************************\n",
      "Test Classification Report:\n",
      "**************************************************\n",
      "              precision    recall  f1-score   support\n",
      "\n",
      "           0       0.44      0.28      0.34        29\n",
      "           1       0.51      0.69      0.59        32\n",
      "\n",
      "    accuracy                           0.49        61\n",
      "   macro avg       0.48      0.48      0.46        61\n",
      "weighted avg       0.48      0.49      0.47        61\n",
      "\n",
      "**************************************************\n",
      "Test Confusion Matrix:\n",
      "[[ 8 21]\n",
      " [10 22]]\n",
      "**************************************************\n",
      "**************************************************\n",
      "0.8267857142857143\n",
      "0.08437626850198443\n",
      "**************************************************\n",
      "('Dim7', 'Dim8', 'Dim1')\n",
      "**************************************************\n",
      "Best parameters set:\n",
      "{'C': 0.5, 'penalty': 'l2', 'random_state': 0}\n",
      "\n",
      "Train Classification Report:\n",
      "**************************************************\n",
      "              precision    recall  f1-score   support\n",
      "\n",
      "           0       0.80      0.63      0.71       109\n",
      "           1       0.74      0.87      0.80       133\n",
      "\n",
      "    accuracy                           0.76       242\n",
      "   macro avg       0.77      0.75      0.76       242\n",
      "weighted avg       0.77      0.76      0.76       242\n",
      "\n",
      "**************************************************\n",
      "Train Confusion Matrix:\n",
      "[[ 69  40]\n",
      " [ 17 116]]\n",
      "**************************************************\n",
      "Test Classification Report:\n",
      "**************************************************\n",
      "              precision    recall  f1-score   support\n",
      "\n",
      "           0       0.80      0.69      0.74        29\n",
      "           1       0.75      0.84      0.79        32\n",
      "\n",
      "    accuracy                           0.77        61\n",
      "   macro avg       0.78      0.77      0.77        61\n",
      "weighted avg       0.77      0.77      0.77        61\n",
      "\n",
      "**************************************************\n",
      "Test Confusion Matrix:\n",
      "[[20  9]\n",
      " [ 5 27]]\n",
      "**************************************************\n",
      "**************************************************\n",
      "0.8267857142857143\n",
      "0.08437626850198443\n",
      "**************************************************\n",
      "('Dim4', 'Dim8', 'Dim5')\n",
      "**************************************************\n",
      "Best parameters set:\n",
      "{'C': 0.5, 'penalty': 'l2', 'random_state': 0}\n",
      "\n",
      "Train Classification Report:\n",
      "**************************************************\n",
      "              precision    recall  f1-score   support\n",
      "\n",
      "           0       0.64      0.43      0.52       109\n",
      "           1       0.63      0.80      0.71       133\n",
      "\n",
      "    accuracy                           0.64       242\n",
      "   macro avg       0.64      0.62      0.61       242\n",
      "weighted avg       0.64      0.64      0.62       242\n",
      "\n",
      "**************************************************\n",
      "Train Confusion Matrix:\n",
      "[[ 47  62]\n",
      " [ 26 107]]\n",
      "**************************************************\n",
      "Test Classification Report:\n",
      "**************************************************\n",
      "              precision    recall  f1-score   support\n",
      "\n",
      "           0       0.47      0.28      0.35        29\n",
      "           1       0.52      0.72      0.61        32\n",
      "\n",
      "    accuracy                           0.51        61\n",
      "   macro avg       0.50      0.50      0.48        61\n",
      "weighted avg       0.50      0.51      0.48        61\n",
      "\n",
      "**************************************************\n",
      "Test Confusion Matrix:\n",
      "[[ 8 21]\n",
      " [ 9 23]]\n",
      "**************************************************\n",
      "**************************************************\n",
      "0.8267857142857143\n",
      "0.08437626850198443\n",
      "**************************************************\n"
     ]
    }
   ],
   "source": [
    "parameters=[\n",
    "{\n",
    "    'penalty':['l1','l2'],\n",
    "    'C':[0.1,0.4,0.5],\n",
    "    'random_state':[0]\n",
    "    },\n",
    "]\n",
    "\n",
    "for features in combine_features_list:\n",
    "    print(features)\n",
    "    print(\"*\"*50)\n",
    "    \n",
    "    X_train_set=X_train.loc[:,features]\n",
    "    X_test_set=X_test.loc[:,features]\n",
    "    \n",
    "    gslog=GridSearchCV(LogisticRegression(),parameters,scoring='accuracy')\n",
    "    gslog.fit(X_train_set,y_train)\n",
    "    print('Best parameters set:')\n",
    "    print(gslog.best_params_)\n",
    "    print()\n",
    "    predictions=[\n",
    "    (gslog.predict(X_train_set),y_train,'Train'),\n",
    "    (gslog.predict(X_test_set),y_test,'Test'),\n",
    "    ]\n",
    "    \n",
    "    for pred in predictions:\n",
    "        print(pred[2] + ' Classification Report:')\n",
    "        print(\"*\"*50)\n",
    "        print(classification_report(pred[1],pred[0]))\n",
    "        print(\"*\"*50)\n",
    "        print(pred[2] + ' Confusion Matrix:')\n",
    "        print(confusion_matrix(pred[1], pred[0]))\n",
    "        print(\"*\"*50)\n",
    "\n",
    "    print(\"*\"*50)    \n",
    "    basari=cross_val_score(estimator=LogisticRegression(),X=X_train,y=y_train,cv=12)\n",
    "    print(basari.mean())\n",
    "    print(basari.std())\n",
    "    print(\"*\"*50) "
   ]
  },
  {
   "cell_type": "code",
   "execution_count": 78,
   "metadata": {},
   "outputs": [
    {
     "data": {
      "image/png": "[encoded data removed]",
      "text/plain": [
       "<Figure size 360x360 with 1 Axes>"
      ]
     },
     "metadata": {},
     "output_type": "display_data"
    },
    {
     "name": "stdout",
     "output_type": "stream",
     "text": [
      "Accurancy Oranı : 0.7540983606557377\n",
      "Logistic TRAIN score with  0.7933884297520661\n",
      "Logistic TEST score with  0.7540983606557377\n",
      "\n",
      "[[19 10]\n",
      " [ 5 27]]\n"
     ]
    },
    {
     "data": {
      "image/png": "[encoded data removed]",
      "text/plain": [
       "<Figure size 432x288 with 2 Axes>"
      ]
     },
     "metadata": {},
     "output_type": "display_data"
    }
   ],
   "source": [
    "lr=LogisticRegression(C=0.1,penalty='l2',random_state=0)\n",
    "lr.fit(X_train,y_train)\n",
    "\n",
    "y_pred=lr.predict(X_test)\n",
    "\n",
    "\n",
    "y_proba=lr.predict_proba(X_test)\n",
    "\n",
    "false_positive_rate, true_positive_rate, thresholds = roc_curve(y_test,y_proba[:,1])\n",
    "roc_auc = auc(false_positive_rate, true_positive_rate)\n",
    "plot_roc_(false_positive_rate,true_positive_rate,roc_auc)\n",
    "\n",
    "\n",
    "from sklearn.metrics import r2_score,accuracy_score\n",
    "\n",
    "#print('Hata Oranı :',r2_score(y_test,y_pred))\n",
    "print('Accurancy Oranı :',accuracy_score(y_test, y_pred))\n",
    "print(\"Logistic TRAIN score with \",format(lr.score(X_train, y_train)))\n",
    "print(\"Logistic TEST score with \",format(lr.score(X_test, y_test)))\n",
    "print()\n",
    "\n",
    "cm=confusion_matrix(y_test,y_pred)\n",
    "print(cm)\n",
    "sns.heatmap(cm,annot=True)\n",
    "plt.show()"
   ]
  },
  {
   "cell_type": "code",
   "execution_count": 79,
   "metadata": {},
   "outputs": [
    {
     "name": "stdout",
     "output_type": "stream",
     "text": [
      "**************************************************\n",
      "**************************************************\n",
      "Best parameters set:\n",
      "{'n_jobs': 2, 'n_neighbors': 30}\n",
      "**************************************************\n",
      "Train Classification Report:\n",
      "**************************************************\n",
      "              precision    recall  f1-score   support\n",
      "\n",
      "           0       0.77      0.72      0.75       109\n",
      "           1       0.79      0.83      0.81       133\n",
      "\n",
      "    accuracy                           0.78       242\n",
      "   macro avg       0.78      0.78      0.78       242\n",
      "weighted avg       0.78      0.78      0.78       242\n",
      "\n",
      "**************************************************\n",
      "Train Confusion Matrix:\n",
      "[[ 79  30]\n",
      " [ 23 110]]\n",
      "**************************************************\n",
      "Test1 Classification Report:\n",
      "**************************************************\n",
      "              precision    recall  f1-score   support\n",
      "\n",
      "           0       0.83      0.69      0.75        29\n",
      "           1       0.76      0.88      0.81        32\n",
      "\n",
      "    accuracy                           0.79        61\n",
      "   macro avg       0.80      0.78      0.78        61\n",
      "weighted avg       0.79      0.79      0.78        61\n",
      "\n",
      "**************************************************\n",
      "Test1 Confusion Matrix:\n",
      "[[20  9]\n",
      " [ 4 28]]\n",
      "**************************************************\n",
      "**************************************************\n",
      "0.8063492063492065\n",
      "0.0945977147673443\n",
      "**************************************************\n",
      "**************************************************\n",
      "Best parameters set:\n",
      "{'n_jobs': 2, 'n_neighbors': 4}\n",
      "**************************************************\n",
      "Train Classification Report:\n",
      "**************************************************\n",
      "              precision    recall  f1-score   support\n",
      "\n",
      "           0       0.73      0.90      0.81       109\n",
      "           1       0.90      0.73      0.80       133\n",
      "\n",
      "    accuracy                           0.81       242\n",
      "   macro avg       0.81      0.81      0.81       242\n",
      "weighted avg       0.82      0.81      0.81       242\n",
      "\n",
      "**************************************************\n",
      "Train Confusion Matrix:\n",
      "[[98 11]\n",
      " [36 97]]\n",
      "**************************************************\n",
      "Test1 Classification Report:\n",
      "**************************************************\n",
      "              precision    recall  f1-score   support\n",
      "\n",
      "           0       0.48      0.69      0.56        29\n",
      "           1       0.53      0.31      0.39        32\n",
      "\n",
      "    accuracy                           0.49        61\n",
      "   macro avg       0.50      0.50      0.48        61\n",
      "weighted avg       0.50      0.49      0.47        61\n",
      "\n",
      "**************************************************\n",
      "Test1 Confusion Matrix:\n",
      "[[20  9]\n",
      " [22 10]]\n",
      "**************************************************\n",
      "**************************************************\n",
      "0.8063492063492065\n",
      "0.0945977147673443\n",
      "**************************************************\n",
      "**************************************************\n",
      "Best parameters set:\n",
      "{'n_jobs': 2, 'n_neighbors': 6}\n",
      "**************************************************\n",
      "Train Classification Report:\n",
      "**************************************************\n",
      "              precision    recall  f1-score   support\n",
      "\n",
      "           0       0.82      0.89      0.85       109\n",
      "           1       0.90      0.83      0.87       133\n",
      "\n",
      "    accuracy                           0.86       242\n",
      "   macro avg       0.86      0.86      0.86       242\n",
      "weighted avg       0.86      0.86      0.86       242\n",
      "\n",
      "**************************************************\n",
      "Train Confusion Matrix:\n",
      "[[ 97  12]\n",
      " [ 22 111]]\n",
      "**************************************************\n",
      "Test1 Classification Report:\n",
      "**************************************************\n",
      "              precision    recall  f1-score   support\n",
      "\n",
      "           0       0.71      0.69      0.70        29\n",
      "           1       0.73      0.75      0.74        32\n",
      "\n",
      "    accuracy                           0.72        61\n",
      "   macro avg       0.72      0.72      0.72        61\n",
      "weighted avg       0.72      0.72      0.72        61\n",
      "\n",
      "**************************************************\n",
      "Test1 Confusion Matrix:\n",
      "[[20  9]\n",
      " [ 8 24]]\n",
      "**************************************************\n",
      "**************************************************\n",
      "0.8063492063492065\n",
      "0.0945977147673443\n",
      "**************************************************\n",
      "**************************************************\n",
      "Best parameters set:\n",
      "{'n_jobs': 2, 'n_neighbors': 4}\n",
      "**************************************************\n",
      "Train Classification Report:\n",
      "**************************************************\n",
      "              precision    recall  f1-score   support\n",
      "\n",
      "           0       0.70      0.92      0.79       109\n",
      "           1       0.91      0.68      0.78       133\n",
      "\n",
      "    accuracy                           0.79       242\n",
      "   macro avg       0.80      0.80      0.78       242\n",
      "weighted avg       0.81      0.79      0.78       242\n",
      "\n",
      "**************************************************\n",
      "Train Confusion Matrix:\n",
      "[[100   9]\n",
      " [ 43  90]]\n",
      "**************************************************\n",
      "Test1 Classification Report:\n",
      "**************************************************\n",
      "              precision    recall  f1-score   support\n",
      "\n",
      "           0       0.47      0.62      0.54        29\n",
      "           1       0.52      0.38      0.44        32\n",
      "\n",
      "    accuracy                           0.49        61\n",
      "   macro avg       0.50      0.50      0.49        61\n",
      "weighted avg       0.50      0.49      0.48        61\n",
      "\n",
      "**************************************************\n",
      "Test1 Confusion Matrix:\n",
      "[[18 11]\n",
      " [20 12]]\n",
      "**************************************************\n",
      "**************************************************\n",
      "0.8063492063492065\n",
      "0.0945977147673443\n",
      "**************************************************\n"
     ]
    }
   ],
   "source": [
    "parameters=[\n",
    "{\n",
    "    'n_neighbors':np.arange(2,33),\n",
    "    'n_jobs':[2,6]\n",
    "    },\n",
    "]\n",
    "print(\"*\"*50)\n",
    "for features in combine_features_list:\n",
    "    print(\"*\"*50)\n",
    "    \n",
    "    X_train_set=X_train.loc[:,features]\n",
    "    X_test_set=X_test.loc[:,features]\n",
    "   \n",
    "    gsknn=GridSearchCV(KNeighborsClassifier(),parameters,scoring='accuracy')\n",
    "    gsknn.fit(X_train_set,y_train)\n",
    "    print('Best parameters set:')\n",
    "    print(gsknn.best_params_)\n",
    "    print(\"*\"*50)\n",
    "    predictions = [\n",
    "    (gsknn.predict(X_train_set), y_train, 'Train'),\n",
    "    (gsknn.predict(X_test_set), y_test, 'Test1')\n",
    "    ]\n",
    "    for pred in predictions:\n",
    "        print(pred[2] + ' Classification Report:')\n",
    "        print(\"*\"*50)\n",
    "        print(classification_report(pred[1], pred[0]))\n",
    "        print(\"*\"*50)\n",
    "        print(pred[2] + ' Confusion Matrix:')\n",
    "        print(confusion_matrix(pred[1], pred[0]))\n",
    "        print(\"*\"*50)\n",
    "        \n",
    "    print(\"*\"*50)    \n",
    "    basari=cross_val_score(estimator=KNeighborsClassifier(),X=X_train,y=y_train,cv=12)\n",
    "    print(basari.mean())\n",
    "    print(basari.std())\n",
    "    print(\"*\"*50)"
   ]
  },
  {
   "cell_type": "code",
   "execution_count": 80,
   "metadata": {},
   "outputs": [
    {
     "data": {
      "image/png": "[encoded data removed]",
      "text/plain": [
       "<Figure size 360x360 with 1 Axes>"
      ]
     },
     "metadata": {},
     "output_type": "display_data"
    },
    {
     "name": "stdout",
     "output_type": "stream",
     "text": [
      "Accurancy Oranı : 0.7377049180327869\n",
      "KNN TRAIN score with  0.8553719008264463\n",
      "KNN TEST score with  0.7377049180327869\n",
      "\n",
      "[[18 11]\n",
      " [ 5 27]]\n"
     ]
    },
    {
     "data": {
      "image/png": "[encoded data removed]",
      "text/plain": [
       "<Figure size 432x288 with 2 Axes>"
      ]
     },
     "metadata": {},
     "output_type": "display_data"
    }
   ],
   "source": [
    "knn.fit(X_train,y_train)\n",
    "\n",
    "y_pred=knn.predict(X_test)\n",
    "\n",
    "y_proba=knn.predict_proba(X_test)\n",
    "false_positive_rate, true_positive_rate, thresholds = roc_curve(y_test,y_proba[:,1])\n",
    "roc_auc = auc(false_positive_rate, true_positive_rate)\n",
    "plot_roc_(false_positive_rate,true_positive_rate,roc_auc)\n",
    "\n",
    "print('Accurancy Oranı :',accuracy_score(y_test, y_pred))\n",
    "print(\"KNN TRAIN score with \",format(knn.score(X_train, y_train)))\n",
    "print(\"KNN TEST score with \",format(knn.score(X_test, y_test)))\n",
    "print()\n",
    "\n",
    "cm=confusion_matrix(y_test,y_pred)\n",
    "print(cm)\n",
    "sns.heatmap(cm,annot=True)\n",
    "plt.show()"
   ]
  },
  {
   "cell_type": "code",
   "execution_count": 81,
   "metadata": {},
   "outputs": [
    {
     "data": {
      "image/png": "[encoded data removed]",
      "text/plain": [
       "<Figure size 432x288 with 1 Axes>"
      ]
     },
     "metadata": {},
     "output_type": "display_data"
    }
   ],
   "source": [
    "n_neighbors = range(1, 17)\n",
    "train_data_accuracy = []\n",
    "test1_data_accuracy = []\n",
    "for n_neigh in n_neighbors:\n",
    "    knn = KNeighborsClassifier(n_neighbors=n_neigh,n_jobs=5)\n",
    "    knn.fit(X_train, y_train)\n",
    "    train_data_accuracy.append(knn.score(X_train, y_train))\n",
    "    test1_data_accuracy.append(knn.score(X_test, y_test))\n",
    "plt.plot(n_neighbors, train_data_accuracy, label=\"Train Data Set\")\n",
    "plt.plot(n_neighbors, test1_data_accuracy, label=\"Test1 Data Set\")\n",
    "plt.ylabel(\"Accuracy\")\n",
    "plt.xlabel(\"Neighbors\")\n",
    "plt.legend()\n",
    "plt.show()"
   ]
  },
  {
   "cell_type": "code",
   "execution_count": 82,
   "metadata": {},
   "outputs": [
    {
     "name": "stdout",
     "output_type": "stream",
     "text": [
      "[0.7444444444444444, 0.7484126984126983, 0.7855158730158731, 0.7732142857142855, 0.8063492063492065, 0.8142857142857142, 0.7894841269841271, 0.780952380952381, 0.7851190476190477, 0.7728174603174603, 0.7811507936507937, 0.7811507936507937, 0.785515873015873, 0.7730158730158729, 0.7938492063492064, 0.7813492063492063]\n"
     ]
    }
   ],
   "source": [
    "n_neighbors = range(1, 17)\n",
    "k_scores=[]\n",
    "for n_neigh in n_neighbors:\n",
    "    knn = KNeighborsClassifier(n_neighbors=n_neigh,n_jobs=5)\n",
    "    scores=cross_val_score(estimator=knn,X=X_train,y=y_train,cv=12)\n",
    "    k_scores.append(scores.mean())\n",
    "print(k_scores)"
   ]
  },
  {
   "cell_type": "code",
   "execution_count": 83,
   "metadata": {},
   "outputs": [
    {
     "data": {
      "image/png": "[encoded data removed]",
      "text/plain": [
       "<Figure size 432x288 with 1 Axes>"
      ]
     },
     "metadata": {},
     "output_type": "display_data"
    }
   ],
   "source": [
    "plt.plot(n_neighbors,k_scores)\n",
    "plt.xlabel('Value of k for KNN')\n",
    "plt.ylabel(\"Cross-Validated Accurancy\")\n",
    "plt.show()"
   ]
  },
  {
   "cell_type": "code",
   "execution_count": 84,
   "metadata": {},
   "outputs": [
    {
     "name": "stdout",
     "output_type": "stream",
     "text": [
      "              precision    recall  f1-score   support\n",
      "\n",
      "           0       0.72      0.81      0.76        26\n",
      "           1       0.84      0.77      0.81        35\n",
      "\n",
      "    accuracy                           0.79        61\n",
      "   macro avg       0.78      0.79      0.78        61\n",
      "weighted avg       0.79      0.79      0.79        61\n",
      "\n"
     ]
    }
   ],
   "source": [
    "knn=KNeighborsClassifier(n_jobs=2, n_neighbors=6)\n",
    "knn.fit(X_train,y_train)\n",
    "\n",
    "y_pred=knn.predict(X_test)\n",
    "\n",
    "print(classification_report(y_pred,y_test))"
   ]
  },
  {
   "cell_type": "code",
   "execution_count": 85,
   "metadata": {},
   "outputs": [
    {
     "name": "stdout",
     "output_type": "stream",
     "text": [
      "**************************************************\n",
      "Best parameters set:\n",
      "{'C': 5, 'degree': 2, 'gamma': 0.9, 'kernel': 'rbf', 'probability': True, 'random_state': 0}\n",
      "**************************************************\n",
      "Train Classification Report:\n",
      "**************************************************\n",
      "              precision    recall  f1-score   support\n",
      "\n",
      "           0       0.77      0.75      0.76       109\n",
      "           1       0.80      0.81      0.81       133\n",
      "\n",
      "    accuracy                           0.79       242\n",
      "   macro avg       0.78      0.78      0.78       242\n",
      "weighted avg       0.78      0.79      0.78       242\n",
      "\n",
      "**************************************************\n",
      "Train Confusion Matrix:\n",
      "[[ 82  27]\n",
      " [ 25 108]]\n",
      "**************************************************\n",
      "Test1 Classification Report:\n",
      "**************************************************\n",
      "              precision    recall  f1-score   support\n",
      "\n",
      "           0       0.73      0.66      0.69        29\n",
      "           1       0.71      0.78      0.75        32\n",
      "\n",
      "    accuracy                           0.72        61\n",
      "   macro avg       0.72      0.72      0.72        61\n",
      "weighted avg       0.72      0.72      0.72        61\n",
      "\n",
      "**************************************************\n",
      "Test1 Confusion Matrix:\n",
      "[[19 10]\n",
      " [ 7 25]]\n",
      "**************************************************\n",
      "**************************************************\n",
      "0.7973360655737705\n",
      "0.0369723596876279\n",
      "**************************************************\n",
      "Best parameters set:\n",
      "{'kernel': 'linear', 'random_state': 2}\n",
      "**************************************************\n",
      "Train Classification Report:\n",
      "**************************************************\n",
      "              precision    recall  f1-score   support\n",
      "\n",
      "           0       0.58      0.23      0.33       109\n",
      "           1       0.58      0.86      0.69       133\n",
      "\n",
      "    accuracy                           0.58       242\n",
      "   macro avg       0.58      0.55      0.51       242\n",
      "weighted avg       0.58      0.58      0.53       242\n",
      "\n",
      "**************************************************\n",
      "Train Confusion Matrix:\n",
      "[[ 25  84]\n",
      " [ 18 115]]\n",
      "**************************************************\n",
      "Test1 Classification Report:\n",
      "**************************************************\n",
      "              precision    recall  f1-score   support\n",
      "\n",
      "           0       0.47      0.28      0.35        29\n",
      "           1       0.52      0.72      0.61        32\n",
      "\n",
      "    accuracy                           0.51        61\n",
      "   macro avg       0.50      0.50      0.48        61\n",
      "weighted avg       0.50      0.51      0.48        61\n",
      "\n",
      "**************************************************\n",
      "Test1 Confusion Matrix:\n",
      "[[ 8 21]\n",
      " [ 9 23]]\n",
      "**************************************************\n",
      "**************************************************\n",
      "0.7973360655737705\n",
      "0.0369723596876279\n",
      "**************************************************\n",
      "Best parameters set:\n",
      "{'C': 2, 'degree': 2, 'gamma': 0.9, 'kernel': 'rbf', 'probability': True, 'random_state': 0}\n",
      "**************************************************\n",
      "Train Classification Report:\n",
      "**************************************************\n",
      "              precision    recall  f1-score   support\n",
      "\n",
      "           0       0.79      0.76      0.78       109\n",
      "           1       0.81      0.83      0.82       133\n",
      "\n",
      "    accuracy                           0.80       242\n",
      "   macro avg       0.80      0.80      0.80       242\n",
      "weighted avg       0.80      0.80      0.80       242\n",
      "\n",
      "**************************************************\n",
      "Train Confusion Matrix:\n",
      "[[ 83  26]\n",
      " [ 22 111]]\n",
      "**************************************************\n",
      "Test1 Classification Report:\n",
      "**************************************************\n",
      "              precision    recall  f1-score   support\n",
      "\n",
      "           0       0.77      0.69      0.73        29\n",
      "           1       0.74      0.81      0.78        32\n",
      "\n",
      "    accuracy                           0.75        61\n",
      "   macro avg       0.76      0.75      0.75        61\n",
      "weighted avg       0.76      0.75      0.75        61\n",
      "\n",
      "**************************************************\n",
      "Test1 Confusion Matrix:\n",
      "[[20  9]\n",
      " [ 6 26]]\n",
      "**************************************************\n",
      "**************************************************\n",
      "0.7973360655737705\n",
      "0.0369723596876279\n",
      "**************************************************\n",
      "Best parameters set:\n",
      "{'C': 6, 'degree': 2, 'gamma': 0.9, 'kernel': 'rbf', 'probability': True, 'random_state': 0}\n",
      "**************************************************\n",
      "Train Classification Report:\n",
      "**************************************************\n",
      "              precision    recall  f1-score   support\n",
      "\n",
      "           0       0.70      0.45      0.55       109\n",
      "           1       0.65      0.84      0.73       133\n",
      "\n",
      "    accuracy                           0.67       242\n",
      "   macro avg       0.68      0.65      0.64       242\n",
      "weighted avg       0.67      0.67      0.65       242\n",
      "\n",
      "**************************************************\n",
      "Train Confusion Matrix:\n",
      "[[ 49  60]\n",
      " [ 21 112]]\n",
      "**************************************************\n",
      "Test1 Classification Report:\n",
      "**************************************************\n",
      "              precision    recall  f1-score   support\n",
      "\n",
      "           0       0.52      0.38      0.44        29\n",
      "           1       0.55      0.69      0.61        32\n",
      "\n",
      "    accuracy                           0.54        61\n",
      "   macro avg       0.54      0.53      0.53        61\n",
      "weighted avg       0.54      0.54      0.53        61\n",
      "\n",
      "**************************************************\n",
      "Test1 Confusion Matrix:\n",
      "[[11 18]\n",
      " [10 22]]\n",
      "**************************************************\n",
      "**************************************************\n",
      "0.7973360655737705\n",
      "0.0369723596876279\n"
     ]
    }
   ],
   "source": [
    "parameters = [\n",
    "    {\n",
    "        'kernel': ['linear'],\n",
    "        'random_state': [2]\n",
    "    },\n",
    "    {\n",
    "        'kernel': ['rbf'],\n",
    "        'gamma':[0.9,0.06,0.3],\n",
    "        'random_state': [0],\n",
    "        'C':[1,2,3,4,5,6],\n",
    "        'degree':[2],\n",
    "        'probability':[True]\n",
    "    },\n",
    "]\n",
    "\n",
    "for features in combine_features_list:\n",
    "    print(\"*\"*50)\n",
    "    X_train_set=X_train.loc[:,features]\n",
    "    X_test_set=X_test.loc[:,features]\n",
    "  \n",
    "    svc = GridSearchCV(SVC(), parameters,\n",
    "    scoring='accuracy')\n",
    "    svc.fit(X_train_set, y_train)\n",
    "    print('Best parameters set:')\n",
    "    print(svc.best_params_)\n",
    "    print(\"*\"*50)\n",
    "    predictions = [\n",
    "    (svc.predict(X_train_set), y_train, 'Train'),\n",
    "    (svc.predict(X_test_set), y_test, 'Test1')\n",
    "    ]\n",
    "    for pred in predictions:\n",
    "        print(pred[2] + ' Classification Report:')\n",
    "        print(\"*\"*50)\n",
    "        print(classification_report(pred[1], pred[0]))\n",
    "        print(\"*\"*50)\n",
    "        print(pred[2] + ' Confusion Matrix:')\n",
    "        print(confusion_matrix(pred[1], pred[0]))\n",
    "        print(\"*\"*50)\n",
    "        \n",
    "    print(\"*\"*50)    \n",
    "    basari=cross_val_score(estimator=SVC(),X=X_train,y=y_train,cv=4)\n",
    "    print(basari.mean())\n",
    "    print(basari.std())"
   ]
  },
  {
   "cell_type": "code",
   "execution_count": 86,
   "metadata": {},
   "outputs": [
    {
     "data": {
      "image/png": "[encoded data removed]",
      "text/plain": [
       "<Figure size 360x360 with 1 Axes>"
      ]
     },
     "metadata": {},
     "output_type": "display_data"
    },
    {
     "name": "stdout",
     "output_type": "stream",
     "text": [
      "Accurancy Oranı : 0.7704918032786885\n",
      "SVC TRAIN score with  0.8305785123966942\n",
      "SVC TEST score with  0.7704918032786885\n",
      "\n",
      "[[20  9]\n",
      " [ 5 27]]\n"
     ]
    },
    {
     "data": {
      "image/png": "[encoded data removed]",
      "text/plain": [
       "<Figure size 432x288 with 2 Axes>"
      ]
     },
     "metadata": {},
     "output_type": "display_data"
    }
   ],
   "source": [
    "svc=SVC(C=5,degree=2,gamma=0.06,kernel='rbf',probability=True,random_state=0)\n",
    "svc.fit(X_train,y_train)\n",
    "\n",
    "y_pred=svc.predict(X_test)\n",
    "\n",
    "y_proba=svc.predict_proba(X_test)\n",
    "false_positive_rate, true_positive_rate, thresholds = roc_curve(y_test,y_proba[:,1])\n",
    "roc_auc = auc(false_positive_rate, true_positive_rate)\n",
    "plot_roc_(false_positive_rate,true_positive_rate,roc_auc)\n",
    "\n",
    "from sklearn.metrics import r2_score,accuracy_score\n",
    "\n",
    "print('Accurancy Oranı :',accuracy_score(y_test, y_pred))\n",
    "print(\"SVC TRAIN score with \",format(svc.score(X_train, y_train)))\n",
    "print(\"SVC TEST score with \",format(svc.score(X_test, y_test)))\n",
    "print()\n",
    "\n",
    "cm=confusion_matrix(y_test,y_pred)\n",
    "print(cm)\n",
    "sns.heatmap(cm,annot=True)\n",
    "plt.show()"
   ]
  },
  {
   "cell_type": "code",
   "execution_count": 87,
   "metadata": {},
   "outputs": [
    {
     "name": "stdout",
     "output_type": "stream",
     "text": [
      "**************************************************\n",
      "Best parameters set:\n",
      "{'learning_rate': 0.02, 'n_estimators': 10, 'random_state': 0}\n",
      "**************************************************\n",
      "Train Classification Report:\n",
      "**************************************************\n",
      "              precision    recall  f1-score   support\n",
      "\n",
      "           0       0.96      0.50      0.66       109\n",
      "           1       0.71      0.98      0.82       133\n",
      "\n",
      "    accuracy                           0.77       242\n",
      "   macro avg       0.84      0.74      0.74       242\n",
      "weighted avg       0.82      0.77      0.75       242\n",
      "\n",
      "**************************************************\n",
      "Train Confusion Matrix:\n",
      "[[ 55  54]\n",
      " [  2 131]]\n",
      "**************************************************\n",
      "Test1 Classification Report:\n",
      "**************************************************\n",
      "              precision    recall  f1-score   support\n",
      "\n",
      "           0       0.93      0.48      0.64        29\n",
      "           1       0.67      0.97      0.79        32\n",
      "\n",
      "    accuracy                           0.74        61\n",
      "   macro avg       0.80      0.73      0.72        61\n",
      "weighted avg       0.80      0.74      0.72        61\n",
      "\n",
      "**************************************************\n",
      "Test1 Confusion Matrix:\n",
      "[[14 15]\n",
      " [ 1 31]]\n",
      "**************************************************\n",
      "**************************************************\n",
      "0.8058060109289618\n",
      "0.03536187078481247\n",
      "**************************************************\n",
      "**************************************************\n",
      "Best parameters set:\n",
      "{'learning_rate': 0.02, 'n_estimators': 12, 'random_state': 0}\n",
      "**************************************************\n",
      "Train Classification Report:\n",
      "**************************************************\n",
      "              precision    recall  f1-score   support\n",
      "\n",
      "           0       1.00      0.11      0.20       109\n",
      "           1       0.58      1.00      0.73       133\n",
      "\n",
      "    accuracy                           0.60       242\n",
      "   macro avg       0.79      0.56      0.47       242\n",
      "weighted avg       0.77      0.60      0.49       242\n",
      "\n",
      "**************************************************\n",
      "Train Confusion Matrix:\n",
      "[[ 12  97]\n",
      " [  0 133]]\n",
      "**************************************************\n",
      "Test1 Classification Report:\n",
      "**************************************************\n",
      "              precision    recall  f1-score   support\n",
      "\n",
      "           0       0.40      0.07      0.12        29\n",
      "           1       0.52      0.91      0.66        32\n",
      "\n",
      "    accuracy                           0.51        61\n",
      "   macro avg       0.46      0.49      0.39        61\n",
      "weighted avg       0.46      0.51      0.40        61\n",
      "\n",
      "**************************************************\n",
      "Test1 Confusion Matrix:\n",
      "[[ 2 27]\n",
      " [ 3 29]]\n",
      "**************************************************\n",
      "**************************************************\n",
      "0.8139344262295081\n",
      "0.025207046721015775\n",
      "**************************************************\n",
      "**************************************************\n",
      "Best parameters set:\n",
      "{'learning_rate': 0.02, 'n_estimators': 13, 'random_state': 0}\n",
      "**************************************************\n",
      "Train Classification Report:\n",
      "**************************************************\n",
      "              precision    recall  f1-score   support\n",
      "\n",
      "           0       0.91      0.63      0.75       109\n",
      "           1       0.76      0.95      0.84       133\n",
      "\n",
      "    accuracy                           0.81       242\n",
      "   macro avg       0.83      0.79      0.79       242\n",
      "weighted avg       0.83      0.81      0.80       242\n",
      "\n",
      "**************************************************\n",
      "Train Confusion Matrix:\n",
      "[[ 69  40]\n",
      " [  7 126]]\n",
      "**************************************************\n",
      "Test1 Classification Report:\n",
      "**************************************************\n",
      "              precision    recall  f1-score   support\n",
      "\n",
      "           0       0.81      0.59      0.68        29\n",
      "           1       0.70      0.88      0.78        32\n",
      "\n",
      "    accuracy                           0.74        61\n",
      "   macro avg       0.75      0.73      0.73        61\n",
      "weighted avg       0.75      0.74      0.73        61\n",
      "\n",
      "**************************************************\n",
      "Test1 Confusion Matrix:\n",
      "[[17 12]\n",
      " [ 4 28]]\n",
      "**************************************************\n",
      "**************************************************\n",
      "0.8139344262295081\n",
      "0.025207046721015775\n",
      "**************************************************\n",
      "**************************************************\n",
      "Best parameters set:\n",
      "{'learning_rate': 0.02, 'n_estimators': 18, 'random_state': 0}\n",
      "**************************************************\n",
      "Train Classification Report:\n",
      "**************************************************\n",
      "              precision    recall  f1-score   support\n",
      "\n",
      "           0       0.84      0.61      0.70       109\n",
      "           1       0.74      0.90      0.81       133\n",
      "\n",
      "    accuracy                           0.77       242\n",
      "   macro avg       0.79      0.75      0.76       242\n",
      "weighted avg       0.78      0.77      0.76       242\n",
      "\n",
      "**************************************************\n",
      "Train Confusion Matrix:\n",
      "[[ 66  43]\n",
      " [ 13 120]]\n",
      "**************************************************\n",
      "Test1 Classification Report:\n",
      "**************************************************\n",
      "              precision    recall  f1-score   support\n",
      "\n",
      "           0       0.47      0.31      0.38        29\n",
      "           1       0.52      0.69      0.59        32\n",
      "\n",
      "    accuracy                           0.51        61\n",
      "   macro avg       0.50      0.50      0.48        61\n",
      "weighted avg       0.50      0.51      0.49        61\n",
      "\n",
      "**************************************************\n",
      "Test1 Confusion Matrix:\n",
      "[[ 9 20]\n",
      " [10 22]]\n",
      "**************************************************\n",
      "**************************************************\n",
      "0.8057377049180328\n",
      "0.03180625960153513\n",
      "**************************************************\n"
     ]
    }
   ],
   "source": [
    "parameters = [\n",
    "{\n",
    "    'learning_rate': [0.01, 0.02, 0.002],\n",
    "    'random_state': [0],\n",
    "    'n_estimators': np.arange(3, 20)\n",
    "    },\n",
    "]\n",
    "for features in combine_features_list:\n",
    "    print(\"*\"*50)\n",
    "    X_train_set=X_train.loc[:,features]\n",
    "    X_test1_set=X_test.loc[:,features]\n",
    "   \n",
    "    gbc = GridSearchCV(GradientBoostingClassifier(), parameters, scoring='accuracy')\n",
    "    gbc.fit(X_train_set, y_train)\n",
    "    print('Best parameters set:')\n",
    "    print(gbc.best_params_)\n",
    "    print(\"*\"*50)\n",
    "    predictions = [\n",
    "    (gbc.predict(X_train_set), y_train, 'Train'),\n",
    "    (gbc.predict(X_test1_set), y_test, 'Test1')\n",
    "    ]\n",
    "    for pred in predictions:\n",
    "        print(pred[2] + ' Classification Report:')\n",
    "        print(\"*\"*50)\n",
    "        print(classification_report(pred[1], pred[0]))\n",
    "        print(\"*\"*50)\n",
    "        print(pred[2] + ' Confusion Matrix:')\n",
    "        print(confusion_matrix(pred[1], pred[0]))\n",
    "        print(\"*\"*50)\n",
    "        \n",
    "    print(\"*\"*50)    \n",
    "    basari=cross_val_score(estimator=GradientBoostingClassifier(),X=X_train,y=y_train,cv=4)\n",
    "    print(basari.mean())\n",
    "    print(basari.std())\n",
    "    print(\"*\"*50)"
   ]
  },
  {
   "cell_type": "code",
   "execution_count": 88,
   "metadata": {},
   "outputs": [
    {
     "data": {
      "image/png": "[encoded data removed]",
      "text/plain": [
       "<Figure size 360x360 with 1 Axes>"
      ]
     },
     "metadata": {},
     "output_type": "display_data"
    },
    {
     "name": "stdout",
     "output_type": "stream",
     "text": [
      "Accurancy Oranı : 0.6557377049180327\n",
      "GradientBoostingClassifier TRAIN score with  0.8677685950413223\n",
      "GradientBoostingClassifier TEST score with  0.6557377049180327\n",
      "\n",
      "[[19 10]\n",
      " [11 21]]\n"
     ]
    },
    {
     "data": {
      "image/png": "[encoded data removed]",
      "text/plain": [
       "<Figure size 432x288 with 2 Axes>"
      ]
     },
     "metadata": {},
     "output_type": "display_data"
    }
   ],
   "source": [
    "gbc=GradientBoostingClassifier(learning_rate=0.02,n_estimators=18,random_state=0)\n",
    "gbc.fit(X_train,y_train)\n",
    "\n",
    "y_pred=gbc.predict(X_test)\n",
    "\n",
    "y_proba=gbc.predict_proba(X_test)\n",
    "false_positive_rate, true_positive_rate, thresholds = roc_curve(y_test,y_proba[:,1])\n",
    "roc_auc = auc(false_positive_rate, true_positive_rate)\n",
    "plot_roc_(false_positive_rate,true_positive_rate,roc_auc)\n",
    "\n",
    "from sklearn.metrics import r2_score,accuracy_score\n",
    "\n",
    "print('Accurancy Oranı :',accuracy_score(y_test, y_pred))\n",
    "print(\"GradientBoostingClassifier TRAIN score with \",format(gbc.score(X_train, y_train)))\n",
    "print(\"GradientBoostingClassifier TEST score with \",format(gbc.score(X_test, y_test)))\n",
    "print()\n",
    "\n",
    "cm=confusion_matrix(y_test,y_pred)\n",
    "print(cm)\n",
    "sns.heatmap(cm,annot=True)\n",
    "plt.show()"
   ]
  },
  {
   "cell_type": "code",
   "execution_count": 89,
   "metadata": {},
   "outputs": [
    {
     "data": {
      "image/png": "[encoded data removed]",
      "text/plain": [
       "<Figure size 432x288 with 1 Axes>"
      ]
     },
     "metadata": {},
     "output_type": "display_data"
    }
   ],
   "source": [
    "plot_feature_importances(gbc)\n",
    "plt.show()\n"
   ]
  },
  {
   "cell_type": "code",
   "execution_count": 90,
   "metadata": {
    "scrolled": false
   },
   "outputs": [
    {
     "name": "stdout",
     "output_type": "stream",
     "text": [
      "**************************************************\n",
      "Best parameters set:\n",
      "{'max_depth': 8, 'min_samples_split': 4, 'n_estimators': 10, 'random_state': 3}\n",
      "**************************************************\n",
      "Train Classification Report:\n",
      "**************************************************\n",
      "              precision    recall  f1-score   support\n",
      "\n",
      "           0       0.93      0.92      0.93       109\n",
      "           1       0.93      0.95      0.94       133\n",
      "\n",
      "    accuracy                           0.93       242\n",
      "   macro avg       0.93      0.93      0.93       242\n",
      "weighted avg       0.93      0.93      0.93       242\n",
      "\n",
      "**************************************************\n",
      "Train Confusion Matrix:\n",
      "[[100   9]\n",
      " [  7 126]]\n",
      "**************************************************\n",
      "Test1 Classification Report:\n",
      "**************************************************\n",
      "              precision    recall  f1-score   support\n",
      "\n",
      "           0       0.82      0.62      0.71        29\n",
      "           1       0.72      0.88      0.79        32\n",
      "\n",
      "    accuracy                           0.75        61\n",
      "   macro avg       0.77      0.75      0.75        61\n",
      "weighted avg       0.77      0.75      0.75        61\n",
      "\n",
      "**************************************************\n",
      "Test1 Confusion Matrix:\n",
      "[[18 11]\n",
      " [ 4 28]]\n",
      "**************************************************\n",
      "**************************************************\n",
      "0.8015027322404371\n",
      "0.03193830134363774\n",
      "**************************************************\n",
      "**************************************************\n",
      "Best parameters set:\n",
      "{'max_depth': 9, 'min_samples_split': 3, 'n_estimators': 14, 'random_state': 3}\n",
      "**************************************************\n",
      "Train Classification Report:\n",
      "**************************************************\n",
      "              precision    recall  f1-score   support\n",
      "\n",
      "           0       0.94      0.94      0.94       109\n",
      "           1       0.95      0.95      0.95       133\n",
      "\n",
      "    accuracy                           0.94       242\n",
      "   macro avg       0.94      0.94      0.94       242\n",
      "weighted avg       0.94      0.94      0.94       242\n",
      "\n",
      "**************************************************\n",
      "Train Confusion Matrix:\n",
      "[[102   7]\n",
      " [  7 126]]\n",
      "**************************************************\n",
      "Test1 Classification Report:\n",
      "**************************************************\n",
      "              precision    recall  f1-score   support\n",
      "\n",
      "           0       0.51      0.62      0.56        29\n",
      "           1       0.58      0.47      0.52        32\n",
      "\n",
      "    accuracy                           0.54        61\n",
      "   macro avg       0.55      0.54      0.54        61\n",
      "weighted avg       0.55      0.54      0.54        61\n",
      "\n",
      "**************************************************\n",
      "Test1 Confusion Matrix:\n",
      "[[18 11]\n",
      " [17 15]]\n",
      "**************************************************\n",
      "**************************************************\n",
      "0.7934426229508197\n",
      "0.04251949051863845\n",
      "**************************************************\n",
      "**************************************************\n",
      "Best parameters set:\n",
      "{'max_depth': 4, 'min_samples_split': 2, 'n_estimators': 18, 'random_state': 3}\n",
      "**************************************************\n",
      "Train Classification Report:\n",
      "**************************************************\n",
      "              precision    recall  f1-score   support\n",
      "\n",
      "           0       0.88      0.83      0.85       109\n",
      "           1       0.86      0.91      0.89       133\n",
      "\n",
      "    accuracy                           0.87       242\n",
      "   macro avg       0.87      0.87      0.87       242\n",
      "weighted avg       0.87      0.87      0.87       242\n",
      "\n",
      "**************************************************\n",
      "Train Confusion Matrix:\n",
      "[[ 90  19]\n",
      " [ 12 121]]\n",
      "**************************************************\n",
      "Test1 Classification Report:\n",
      "**************************************************\n",
      "              precision    recall  f1-score   support\n",
      "\n",
      "           0       0.73      0.66      0.69        29\n",
      "           1       0.71      0.78      0.75        32\n",
      "\n",
      "    accuracy                           0.72        61\n",
      "   macro avg       0.72      0.72      0.72        61\n",
      "weighted avg       0.72      0.72      0.72        61\n",
      "\n",
      "**************************************************\n",
      "Test1 Confusion Matrix:\n",
      "[[19 10]\n",
      " [ 7 25]]\n",
      "**************************************************\n",
      "**************************************************\n",
      "0.8015710382513661\n",
      "0.02107580832653397\n",
      "**************************************************\n",
      "**************************************************\n",
      "Best parameters set:\n",
      "{'max_depth': 2, 'min_samples_split': 2, 'n_estimators': 12, 'random_state': 3}\n",
      "**************************************************\n",
      "Train Classification Report:\n",
      "**************************************************\n",
      "              precision    recall  f1-score   support\n",
      "\n",
      "           0       0.78      0.62      0.69       109\n",
      "           1       0.74      0.86      0.79       133\n",
      "\n",
      "    accuracy                           0.75       242\n",
      "   macro avg       0.76      0.74      0.74       242\n",
      "weighted avg       0.76      0.75      0.75       242\n",
      "\n",
      "**************************************************\n",
      "Train Confusion Matrix:\n",
      "[[ 68  41]\n",
      " [ 19 114]]\n",
      "**************************************************\n",
      "Test1 Classification Report:\n",
      "**************************************************\n",
      "              precision    recall  f1-score   support\n",
      "\n",
      "           0       0.41      0.31      0.35        29\n",
      "           1       0.49      0.59      0.54        32\n",
      "\n",
      "    accuracy                           0.46        61\n",
      "   macro avg       0.45      0.45      0.44        61\n",
      "weighted avg       0.45      0.46      0.45        61\n",
      "\n",
      "**************************************************\n",
      "Test1 Confusion Matrix:\n",
      "[[ 9 20]\n",
      " [13 19]]\n",
      "**************************************************\n",
      "**************************************************\n",
      "0.8096311475409835\n",
      "0.03560381612069966\n",
      "**************************************************\n"
     ]
    }
   ],
   "source": [
    "parameters = [\n",
    "    {\n",
    "        'max_depth': np.arange(1, 10),\n",
    "        'min_samples_split': np.arange(2, 5),\n",
    "        'random_state': [3],\n",
    "        'n_estimators': np.arange(10, 20)\n",
    "    },\n",
    "]\n",
    "\n",
    "for features in combine_features_list:\n",
    "    print(\"*\"*50)\n",
    "    \n",
    "    X_train_set=X_train.loc[:,features]\n",
    "    X_test1_set=X_test.loc[:,features]\n",
    "    \n",
    "    tree=GridSearchCV(RandomForestClassifier(),parameters,scoring='accuracy')\n",
    "    tree.fit(X_train_set, y_train)\n",
    "    \n",
    "    print('Best parameters set:')\n",
    "    print(tree.best_params_)\n",
    "    print(\"*\"*50)\n",
    "    predictions = [\n",
    "        (tree.predict(X_train_set), y_train, 'Train'),\n",
    "        (tree.predict(X_test1_set), y_test, 'Test1')\n",
    "    ]\n",
    "    \n",
    "    for pred in predictions:\n",
    "        \n",
    "        print(pred[2] + ' Classification Report:')\n",
    "        print(\"*\"*50)\n",
    "        print(classification_report(pred[1], pred[0]))\n",
    "        print(\"*\"*50)\n",
    "        print(pred[2] + ' Confusion Matrix:')\n",
    "        print(confusion_matrix(pred[1], pred[0]))\n",
    "        print(\"*\"*50)\n",
    "    \n",
    "    print(\"*\"*50)    \n",
    "    basari=cross_val_score(estimator=RandomForestClassifier(),X=X_train,y=y_train,cv=4)\n",
    "    print(basari.mean())\n",
    "    print(basari.std())\n",
    "    print(\"*\"*50)"
   ]
  },
  {
   "cell_type": "code",
   "execution_count": 91,
   "metadata": {},
   "outputs": [
    {
     "data": {
      "image/png": "[encoded data removed]",
      "text/plain": [
       "<Figure size 360x360 with 1 Axes>"
      ]
     },
     "metadata": {},
     "output_type": "display_data"
    },
    {
     "name": "stdout",
     "output_type": "stream",
     "text": [
      "Accurancy Oranı : 0.7540983606557377\n",
      "RandomForestClassifier TRAIN score with  0.9669421487603306\n",
      "RandomForestClassifier TEST score with  0.7540983606557377\n",
      "\n",
      "[[19 10]\n",
      " [ 5 27]]\n"
     ]
    },
    {
     "data": {
      "image/png": "[encoded data removed]",
      "text/plain": [
       "<Figure size 432x288 with 2 Axes>"
      ]
     },
     "metadata": {},
     "output_type": "display_data"
    }
   ],
   "source": [
    "rfc=RandomForestClassifier(max_depth=7,min_samples_split=4,n_estimators=19,random_state=3)\n",
    "rfc.fit(X_train,y_train)\n",
    "\n",
    "y_pred=rfc.predict(X_test)\n",
    "\n",
    "y_proba=rfc.predict_proba(X_test)\n",
    "false_positive_rate, true_positive_rate, thresholds = roc_curve(y_test,y_proba[:,1])\n",
    "roc_auc = auc(false_positive_rate, true_positive_rate)\n",
    "plot_roc_(false_positive_rate,true_positive_rate,roc_auc)\n",
    "\n",
    "from sklearn.metrics import r2_score,accuracy_score\n",
    "print('Accurancy Oranı :',accuracy_score(y_test, y_pred))\n",
    "print(\"RandomForestClassifier TRAIN score with \",format(rfc.score(X_train, y_train)))\n",
    "print(\"RandomForestClassifier TEST score with \",format(rfc.score(X_test, y_test)))\n",
    "print()\n",
    "\n",
    "cm=confusion_matrix(y_test,y_pred)\n",
    "print(cm)\n",
    "sns.heatmap(cm,annot=True)\n",
    "plt.show()"
   ]
  },
  {
   "cell_type": "code",
   "execution_count": 92,
   "metadata": {},
   "outputs": [
    {
     "name": "stdout",
     "output_type": "stream",
     "text": [
      "TEST set score with 10 estimators: 0.57377\n",
      "TEST set score with 30 estimators: 0.72131\n",
      "TEST set score with 50 estimators: 0.7377\n",
      "TEST set score with 100 estimators: 0.7377\n"
     ]
    }
   ],
   "source": [
    "for i in [10,30,50,100]:\n",
    "    rf = RandomForestClassifier(n_estimators=i, random_state = 3, max_depth=7)\n",
    "    rf.fit(X_train, y_train)\n",
    "    print(\"TEST set score with \" +str(i)+\" estimators: {:.5}\".format(rf.score(X_test, y_test)))\n",
    "    "
   ]
  },
  {
   "cell_type": "code",
   "execution_count": 93,
   "metadata": {},
   "outputs": [
    {
     "data": {
      "image/png": "[encoded data removed]",
      "text/plain": [
       "<Figure size 432x288 with 1 Axes>"
      ]
     },
     "metadata": {},
     "output_type": "display_data"
    }
   ],
   "source": [
    "plot_feature_importances(rf)\n",
    "plt.show()"
   ]
  },
  {
   "cell_type": "code",
   "execution_count": 94,
   "metadata": {},
   "outputs": [
    {
     "name": "stdout",
     "output_type": "stream",
     "text": [
      "**************************************************\n",
      "Best parameters set:\n",
      "{'random_state': 42}\n",
      "**************************************************\n",
      "Train Classification Report:\n",
      "**************************************************\n",
      "              precision    recall  f1-score   support\n",
      "\n",
      "           0       1.00      1.00      1.00       109\n",
      "           1       1.00      1.00      1.00       133\n",
      "\n",
      "    accuracy                           1.00       242\n",
      "   macro avg       1.00      1.00      1.00       242\n",
      "weighted avg       1.00      1.00      1.00       242\n",
      "\n",
      "**************************************************\n",
      "Train Confusion Matrix:\n",
      "[[109   0]\n",
      " [  0 133]]\n",
      "**************************************************\n",
      "Test1 Classification Report:\n",
      "**************************************************\n",
      "              precision    recall  f1-score   support\n",
      "\n",
      "           0       0.83      0.52      0.64        29\n",
      "           1       0.67      0.91      0.77        32\n",
      "\n",
      "    accuracy                           0.72        61\n",
      "   macro avg       0.75      0.71      0.71        61\n",
      "weighted avg       0.75      0.72      0.71        61\n",
      "\n",
      "**************************************************\n",
      "Test1 Confusion Matrix:\n",
      "[[15 14]\n",
      " [ 3 29]]\n",
      "**************************************************\n",
      "**************************************************\n",
      "0.7479508196721312\n",
      "0.05385408086985617\n",
      "**************************************************\n",
      "**************************************************\n",
      "Best parameters set:\n",
      "{'random_state': 42}\n",
      "**************************************************\n",
      "Train Classification Report:\n",
      "**************************************************\n",
      "              precision    recall  f1-score   support\n",
      "\n",
      "           0       1.00      1.00      1.00       109\n",
      "           1       1.00      1.00      1.00       133\n",
      "\n",
      "    accuracy                           1.00       242\n",
      "   macro avg       1.00      1.00      1.00       242\n",
      "weighted avg       1.00      1.00      1.00       242\n",
      "\n",
      "**************************************************\n",
      "Train Confusion Matrix:\n",
      "[[109   0]\n",
      " [  0 133]]\n",
      "**************************************************\n",
      "Test1 Classification Report:\n",
      "**************************************************\n",
      "              precision    recall  f1-score   support\n",
      "\n",
      "           0       0.54      0.69      0.61        29\n",
      "           1       0.62      0.47      0.54        32\n",
      "\n",
      "    accuracy                           0.57        61\n",
      "   macro avg       0.58      0.58      0.57        61\n",
      "weighted avg       0.58      0.57      0.57        61\n",
      "\n",
      "**************************************************\n",
      "Test1 Confusion Matrix:\n",
      "[[20  9]\n",
      " [17 15]]\n",
      "**************************************************\n",
      "**************************************************\n",
      "0.7477459016393443\n",
      "0.03300891070109566\n",
      "**************************************************\n",
      "**************************************************\n",
      "Best parameters set:\n",
      "{'random_state': 42}\n",
      "**************************************************\n",
      "Train Classification Report:\n",
      "**************************************************\n",
      "              precision    recall  f1-score   support\n",
      "\n",
      "           0       1.00      1.00      1.00       109\n",
      "           1       1.00      1.00      1.00       133\n",
      "\n",
      "    accuracy                           1.00       242\n",
      "   macro avg       1.00      1.00      1.00       242\n",
      "weighted avg       1.00      1.00      1.00       242\n",
      "\n",
      "**************************************************\n",
      "Train Confusion Matrix:\n",
      "[[109   0]\n",
      " [  0 133]]\n",
      "**************************************************\n",
      "Test1 Classification Report:\n",
      "**************************************************\n",
      "              precision    recall  f1-score   support\n",
      "\n",
      "           0       0.73      0.66      0.69        29\n",
      "           1       0.71      0.78      0.75        32\n",
      "\n",
      "    accuracy                           0.72        61\n",
      "   macro avg       0.72      0.72      0.72        61\n",
      "weighted avg       0.72      0.72      0.72        61\n",
      "\n",
      "**************************************************\n",
      "Test1 Confusion Matrix:\n",
      "[[19 10]\n",
      " [ 7 25]]\n",
      "**************************************************\n",
      "**************************************************\n",
      "0.7602459016393442\n",
      "0.028194086906205406\n",
      "**************************************************\n",
      "**************************************************\n",
      "Best parameters set:\n",
      "{'random_state': 42}\n",
      "**************************************************\n",
      "Train Classification Report:\n",
      "**************************************************\n",
      "              precision    recall  f1-score   support\n",
      "\n",
      "           0       1.00      1.00      1.00       109\n",
      "           1       1.00      1.00      1.00       133\n",
      "\n",
      "    accuracy                           1.00       242\n",
      "   macro avg       1.00      1.00      1.00       242\n",
      "weighted avg       1.00      1.00      1.00       242\n",
      "\n",
      "**************************************************\n",
      "Train Confusion Matrix:\n",
      "[[109   0]\n",
      " [  0 133]]\n",
      "**************************************************\n",
      "Test1 Classification Report:\n",
      "**************************************************\n",
      "              precision    recall  f1-score   support\n",
      "\n",
      "           0       0.46      0.41      0.44        29\n",
      "           1       0.51      0.56      0.54        32\n",
      "\n",
      "    accuracy                           0.49        61\n",
      "   macro avg       0.49      0.49      0.49        61\n",
      "weighted avg       0.49      0.49      0.49        61\n",
      "\n",
      "**************************************************\n",
      "Test1 Confusion Matrix:\n",
      "[[12 17]\n",
      " [14 18]]\n",
      "**************************************************\n",
      "**************************************************\n",
      "0.7519808743169399\n",
      "0.02685555735064779\n",
      "**************************************************\n"
     ]
    }
   ],
   "source": [
    "parameters = [\n",
    "{\n",
    "    'random_state': [42],\n",
    "    },\n",
    "]\n",
    "for features in combine_features_list:\n",
    "    print(\"*\"*50)\n",
    "    X_train_set=X_train.loc[:,features]\n",
    "    X_test1_set=X_test.loc[:,features]\n",
    "    \n",
    "    dtr = GridSearchCV(DecisionTreeClassifier(), parameters, scoring='accuracy')\n",
    "    \n",
    "    dtr.fit(X_train_set, y_train)\n",
    "    print('Best parameters set:')\n",
    "    print(dtr.best_params_)\n",
    "    print(\"*\"*50)\n",
    "    predictions = [\n",
    "    (dtr.predict(X_train_set), y_train, 'Train'),\n",
    "    (dtr.predict(X_test1_set), y_test, 'Test1')\n",
    "    ]\n",
    "    for pred in predictions:\n",
    "        print(pred[2] + ' Classification Report:')\n",
    "        print(\"*\"*50)\n",
    "        print(classification_report(pred[1], pred[0]))\n",
    "        print(\"*\"*50)\n",
    "        print(pred[2] + ' Confusion Matrix:')\n",
    "        print(confusion_matrix(pred[1], pred[0]))\n",
    "        print(\"*\"*50)\n",
    "        \n",
    "    print(\"*\"*50)    \n",
    "    basari=cross_val_score(estimator=DecisionTreeClassifier(),X=X_train,y=y_train,cv=4)\n",
    "    print(basari.mean())\n",
    "    print(basari.std())\n",
    "    print(\"*\"*50)  "
   ]
  },
  {
   "cell_type": "code",
   "execution_count": 95,
   "metadata": {},
   "outputs": [
    {
     "name": "stdout",
     "output_type": "stream",
     "text": [
      "**************************************************\n",
      "Best parameters set:\n",
      "{'random_state': 42}\n",
      "**************************************************\n",
      "Train Classification Report:\n",
      "**************************************************\n",
      "              precision    recall  f1-score   support\n",
      "\n",
      "           0       0.76      0.72      0.74       109\n",
      "           1       0.78      0.82      0.80       133\n",
      "\n",
      "    accuracy                           0.77       242\n",
      "   macro avg       0.77      0.77      0.77       242\n",
      "weighted avg       0.77      0.77      0.77       242\n",
      "\n",
      "**************************************************\n",
      "Train Confusion Matrix:\n",
      "[[ 78  31]\n",
      " [ 24 109]]\n",
      "**************************************************\n",
      "Test1 Classification Report:\n",
      "**************************************************\n",
      "              precision    recall  f1-score   support\n",
      "\n",
      "           0       0.74      0.69      0.71        29\n",
      "           1       0.74      0.78      0.76        32\n",
      "\n",
      "    accuracy                           0.74        61\n",
      "   macro avg       0.74      0.74      0.74        61\n",
      "weighted avg       0.74      0.74      0.74        61\n",
      "\n",
      "**************************************************\n",
      "Test1 Confusion Matrix:\n",
      "[[20  9]\n",
      " [ 7 25]]\n",
      "**************************************************\n",
      "**************************************************\n",
      "0.7973360655737705\n",
      "0.0369723596876279\n",
      "**************************************************\n",
      "**************************************************\n",
      "Best parameters set:\n",
      "{'random_state': 42}\n",
      "**************************************************\n",
      "Train Classification Report:\n",
      "**************************************************\n",
      "              precision    recall  f1-score   support\n",
      "\n",
      "           0       0.66      0.63      0.64       109\n",
      "           1       0.71      0.73      0.72       133\n",
      "\n",
      "    accuracy                           0.69       242\n",
      "   macro avg       0.68      0.68      0.68       242\n",
      "weighted avg       0.69      0.69      0.69       242\n",
      "\n",
      "**************************************************\n",
      "Train Confusion Matrix:\n",
      "[[69 40]\n",
      " [36 97]]\n",
      "**************************************************\n",
      "Test1 Classification Report:\n",
      "**************************************************\n",
      "              precision    recall  f1-score   support\n",
      "\n",
      "           0       0.50      0.41      0.45        29\n",
      "           1       0.54      0.62      0.58        32\n",
      "\n",
      "    accuracy                           0.52        61\n",
      "   macro avg       0.52      0.52      0.52        61\n",
      "weighted avg       0.52      0.52      0.52        61\n",
      "\n",
      "**************************************************\n",
      "Test1 Confusion Matrix:\n",
      "[[12 17]\n",
      " [12 20]]\n",
      "**************************************************\n",
      "**************************************************\n",
      "0.7973360655737705\n",
      "0.0369723596876279\n",
      "**************************************************\n",
      "**************************************************\n",
      "Best parameters set:\n",
      "{'random_state': 42}\n",
      "**************************************************\n",
      "Train Classification Report:\n",
      "**************************************************\n",
      "              precision    recall  f1-score   support\n",
      "\n",
      "           0       0.78      0.76      0.77       109\n",
      "           1       0.81      0.83      0.82       133\n",
      "\n",
      "    accuracy                           0.80       242\n",
      "   macro avg       0.80      0.79      0.79       242\n",
      "weighted avg       0.80      0.80      0.80       242\n",
      "\n",
      "**************************************************\n",
      "Train Confusion Matrix:\n",
      "[[ 83  26]\n",
      " [ 23 110]]\n",
      "**************************************************\n",
      "Test1 Classification Report:\n",
      "**************************************************\n",
      "              precision    recall  f1-score   support\n",
      "\n",
      "           0       0.75      0.72      0.74        29\n",
      "           1       0.76      0.78      0.77        32\n",
      "\n",
      "    accuracy                           0.75        61\n",
      "   macro avg       0.75      0.75      0.75        61\n",
      "weighted avg       0.75      0.75      0.75        61\n",
      "\n",
      "**************************************************\n",
      "Test1 Confusion Matrix:\n",
      "[[21  8]\n",
      " [ 7 25]]\n",
      "**************************************************\n",
      "**************************************************\n",
      "0.7973360655737705\n",
      "0.0369723596876279\n",
      "**************************************************\n",
      "**************************************************\n",
      "Best parameters set:\n",
      "{'random_state': 42}\n",
      "**************************************************\n",
      "Train Classification Report:\n",
      "**************************************************\n",
      "              precision    recall  f1-score   support\n",
      "\n",
      "           0       0.72      0.62      0.67       109\n",
      "           1       0.72      0.80      0.76       133\n",
      "\n",
      "    accuracy                           0.72       242\n",
      "   macro avg       0.72      0.71      0.72       242\n",
      "weighted avg       0.72      0.72      0.72       242\n",
      "\n",
      "**************************************************\n",
      "Train Confusion Matrix:\n",
      "[[ 68  41]\n",
      " [ 26 107]]\n",
      "**************************************************\n",
      "Test1 Classification Report:\n",
      "**************************************************\n",
      "              precision    recall  f1-score   support\n",
      "\n",
      "           0       0.54      0.45      0.49        29\n",
      "           1       0.57      0.66      0.61        32\n",
      "\n",
      "    accuracy                           0.56        61\n",
      "   macro avg       0.55      0.55      0.55        61\n",
      "weighted avg       0.56      0.56      0.55        61\n",
      "\n",
      "**************************************************\n",
      "Test1 Confusion Matrix:\n",
      "[[13 16]\n",
      " [11 21]]\n",
      "**************************************************\n",
      "**************************************************\n",
      "0.7973360655737705\n",
      "0.0369723596876279\n",
      "**************************************************\n"
     ]
    }
   ],
   "source": [
    "parameters = [\n",
    "{\n",
    "    'random_state': [42],\n",
    "    },\n",
    "]\n",
    "for features in combine_features_list:\n",
    "    print(\"*\"*50)\n",
    "    X_train_set=X_train.loc[:,features]\n",
    "    X_test1_set=X_test.loc[:,features]\n",
    "    \n",
    "    dtr = GridSearchCV(SVC(), parameters, scoring='accuracy')\n",
    "    \n",
    "    dtr.fit(X_train_set, y_train)\n",
    "    print('Best parameters set:')\n",
    "    print(dtr.best_params_)\n",
    "    print(\"*\"*50)\n",
    "    predictions = [\n",
    "    (dtr.predict(X_train_set), y_train, 'Train'),\n",
    "    (dtr.predict(X_test1_set), y_test, 'Test1')\n",
    "    ]\n",
    "    for pred in predictions:\n",
    "        print(pred[2] + ' Classification Report:')\n",
    "        print(\"*\"*50)\n",
    "        print(classification_report(pred[1], pred[0]))\n",
    "        print(\"*\"*50)\n",
    "        print(pred[2] + ' Confusion Matrix:')\n",
    "        print(confusion_matrix(pred[1], pred[0]))\n",
    "        print(\"*\"*50)\n",
    "        \n",
    "    print(\"*\"*50)    \n",
    "    basari=cross_val_score(estimator=SVC(),X=X_train,y=y_train,cv=4)\n",
    "    print(basari.mean())\n",
    "    print(basari.std())\n",
    "    print(\"*\"*50)  "
   ]
  },
  {
   "cell_type": "code",
   "execution_count": 96,
   "metadata": {},
   "outputs": [],
   "source": [
    "x_train, x_test, y_train, y_test = train_test_split(x,y,test_size = 0.2,random_state=10)\n"
   ]
  },
  {
   "cell_type": "code",
   "execution_count": 97,
   "metadata": {},
   "outputs": [
    {
     "data": {
      "text/plain": [
       "RandomForestClassifier(max_depth=5)"
      ]
     },
     "execution_count": 97,
     "metadata": {},
     "output_type": "execute_result"
    }
   ],
   "source": [
    "model = RandomForestClassifier(max_depth=5)\n",
    "model.fit(x_train, y_train)"
   ]
  },
  {
   "cell_type": "code",
   "execution_count": 98,
   "metadata": {},
   "outputs": [],
   "source": [
    "estimator = model.estimators_[1]\n",
    "feature_names = [i for i in x_train.columns]\n",
    "\n",
    "y_train_str = y_train.astype('str')\n",
    "y_train_str[y_train_str == '0'] = 'no disease'\n",
    "y_train_str[y_train_str == '1'] = 'disease'"
   ]
  },
  {
   "cell_type": "code",
   "execution_count": 99,
   "metadata": {},
   "outputs": [],
   "source": [
    "y_predict = model.predict(x_test)\n",
    "y_pred_quant = model.predict_proba(x_test)[:, 1]\n",
    "y_pred_bin = model.predict(x_test)"
   ]
  },
  {
   "cell_type": "code",
   "execution_count": 100,
   "metadata": {},
   "outputs": [
    {
     "data": {
      "text/plain": [
       "array([[27,  8],\n",
       "       [ 4, 22]], dtype=int64)"
      ]
     },
     "execution_count": 100,
     "metadata": {},
     "output_type": "execute_result"
    }
   ],
   "source": [
    "confusion_matrix = confusion_matrix(y_test, y_pred_bin)\n",
    "confusion_matrix"
   ]
  },
  {
   "cell_type": "code",
   "execution_count": 101,
   "metadata": {},
   "outputs": [
    {
     "name": "stdout",
     "output_type": "stream",
     "text": [
      "Sensitivity :  0.8709677419354839\n",
      "Specificity :  0.7333333333333333\n"
     ]
    }
   ],
   "source": [
    "total=sum(sum(confusion_matrix))\n",
    "\n",
    "sensitivity = confusion_matrix[0,0]/(confusion_matrix[0,0]+confusion_matrix[1,0])\n",
    "print('Sensitivity : ', sensitivity )\n",
    "\n",
    "specificity = confusion_matrix[1,1]/(confusion_matrix[1,1]+confusion_matrix[0,1])\n",
    "print('Specificity : ', specificity)"
   ]
  },
  {
   "cell_type": "code",
   "execution_count": 102,
   "metadata": {},
   "outputs": [
    {
     "data": {
      "image/png": "[encoded data removed]",
      "text/plain": [
       "<Figure size 432x288 with 1 Axes>"
      ]
     },
     "metadata": {},
     "output_type": "display_data"
    }
   ],
   "source": [
    "fpr, tpr, thresholds = roc_curve(y_test, y_pred_quant)\n",
    "\n",
    "fig, ax = plt.subplots()\n",
    "ax.plot(fpr, tpr)\n",
    "ax.plot([0, 1], [0, 1], transform=ax.transAxes, ls=\"--\", c=\".3\")\n",
    "plt.xlim([0.0, 1.0])\n",
    "plt.ylim([0.0, 1.0])\n",
    "plt.rcParams['font.size'] = 12\n",
    "plt.title('ROC curve for diabetes classifier')\n",
    "plt.xlabel('False Positive Rate (1 - Specificity)')\n",
    "plt.ylabel('True Positive Rate (Sensitivity)')\n",
    "plt.grid(True)"
   ]
  },
  {
   "cell_type": "markdown",
   "metadata": {},
   "source": [
    "Another common metric is the Area Under the Curve, or AUC. This is a convenient way to capture the performance of a model in a single number, although it's not without certain issues. As a rule of thumb, an AUC can be classed as follows,\n",
    "\n",
    "1. 0.90 - 1.00 = excellent\n",
    "2. 0.80 - 0.90 = good\n",
    "3. 0.70 - 0.80 = fair\n",
    "4. 0.60 - 0.70 = poor\n",
    "5. 0.50 - 0.60 = fail\n",
    "\n",
    "Let's see what the above ROC gives us,"
   ]
  },
  {
   "cell_type": "code",
   "execution_count": 103,
   "metadata": {},
   "outputs": [
    {
     "data": {
      "text/plain": [
       "0.9054945054945055"
      ]
     },
     "execution_count": 103,
     "metadata": {},
     "output_type": "execute_result"
    }
   ],
   "source": [
    "auc(fpr, tpr)\n"
   ]
  },
  {
   "cell_type": "markdown",
   "metadata": {},
   "source": [
    "# Conclusion\n",
    "Now let's see what the model gives us from the ML explainability tools.\n",
    "\n",
    "Permutation importance is the first tool for understanding a machine-learning model, and involves shuffling individual variables in the validation data (after a model has been fit), and seeing the effect on accuracy. Learn more here.\n",
    "\n",
    "Let's take a look,"
   ]
  },
  {
   "cell_type": "code",
   "execution_count": 104,
   "metadata": {},
   "outputs": [
    {
     "data": {
      "text/html": [
       "\n",
       "    <style>\n",
       "    table.eli5-weights tr:hover {\n",
       "        filter: brightness(85%);\n",
       "    }\n",
       "</style>\n",
       "\n",
       "\n",
       "\n",
       "    \n",
       "\n",
       "    \n",
       "\n",
       "    \n",
       "\n",
       "    \n",
       "\n",
       "    \n",
       "\n",
       "    \n",
       "\n",
       "\n",
       "    \n",
       "\n",
       "    \n",
       "\n",
       "    \n",
       "\n",
       "    \n",
       "\n",
       "    \n",
       "\n",
       "    \n",
       "\n",
       "\n",
       "    \n",
       "\n",
       "    \n",
       "\n",
       "    \n",
       "\n",
       "    \n",
       "\n",
       "    \n",
       "        <table class=\"eli5-weights eli5-feature-importances\" style=\"border-collapse: collapse; border: none; margin-top: 0em; table-layout: auto;\">\n",
       "    <thead>\n",
       "    <tr style=\"border: none;\">\n",
       "        <th style=\"padding: 0 1em 0 0.5em; text-align: right; border: none;\">Weight</th>\n",
       "        <th style=\"padding: 0 0.5em 0 0.5em; text-align: left; border: none;\">Feature</th>\n",
       "    </tr>\n",
       "    </thead>\n",
       "    <tbody>\n",
       "    \n",
       "        <tr style=\"background-color: hsl(120, 100.00%, 80.00%); border: none;\">\n",
       "            <td style=\"padding: 0 1em 0 0.5em; text-align: right; border: none;\">\n",
       "                0.0361\n",
       "                \n",
       "                    &plusmn; 0.0245\n",
       "                \n",
       "            </td>\n",
       "            <td style=\"padding: 0 0.5em 0 0.5em; text-align: left; border: none;\">\n",
       "                cp\n",
       "            </td>\n",
       "        </tr>\n",
       "    \n",
       "        <tr style=\"background-color: hsl(120, 100.00%, 84.00%); border: none;\">\n",
       "            <td style=\"padding: 0 1em 0 0.5em; text-align: right; border: none;\">\n",
       "                0.0262\n",
       "                \n",
       "                    &plusmn; 0.0608\n",
       "                \n",
       "            </td>\n",
       "            <td style=\"padding: 0 0.5em 0 0.5em; text-align: left; border: none;\">\n",
       "                ca\n",
       "            </td>\n",
       "        </tr>\n",
       "    \n",
       "        <tr style=\"background-color: hsl(120, 100.00%, 88.48%); border: none;\">\n",
       "            <td style=\"padding: 0 1em 0 0.5em; text-align: right; border: none;\">\n",
       "                0.0164\n",
       "                \n",
       "                    &plusmn; 0.0359\n",
       "                \n",
       "            </td>\n",
       "            <td style=\"padding: 0 0.5em 0 0.5em; text-align: left; border: none;\">\n",
       "                thal\n",
       "            </td>\n",
       "        </tr>\n",
       "    \n",
       "        <tr style=\"background-color: hsl(120, 100.00%, 91.95%); border: none;\">\n",
       "            <td style=\"padding: 0 1em 0 0.5em; text-align: right; border: none;\">\n",
       "                0.0098\n",
       "                \n",
       "                    &plusmn; 0.0393\n",
       "                \n",
       "            </td>\n",
       "            <td style=\"padding: 0 0.5em 0 0.5em; text-align: left; border: none;\">\n",
       "                oldpeak\n",
       "            </td>\n",
       "        </tr>\n",
       "    \n",
       "        <tr style=\"background-color: hsl(120, 100.00%, 91.95%); border: none;\">\n",
       "            <td style=\"padding: 0 1em 0 0.5em; text-align: right; border: none;\">\n",
       "                0.0098\n",
       "                \n",
       "                    &plusmn; 0.0161\n",
       "                \n",
       "            </td>\n",
       "            <td style=\"padding: 0 0.5em 0 0.5em; text-align: left; border: none;\">\n",
       "                restecg\n",
       "            </td>\n",
       "        </tr>\n",
       "    \n",
       "        <tr style=\"background-color: hsl(120, 100.00%, 91.95%); border: none;\">\n",
       "            <td style=\"padding: 0 1em 0 0.5em; text-align: right; border: none;\">\n",
       "                0.0098\n",
       "                \n",
       "                    &plusmn; 0.0334\n",
       "                \n",
       "            </td>\n",
       "            <td style=\"padding: 0 0.5em 0 0.5em; text-align: left; border: none;\">\n",
       "                chol\n",
       "            </td>\n",
       "        </tr>\n",
       "    \n",
       "        <tr style=\"background-color: hsl(120, 100.00%, 91.95%); border: none;\">\n",
       "            <td style=\"padding: 0 1em 0 0.5em; text-align: right; border: none;\">\n",
       "                0.0098\n",
       "                \n",
       "                    &plusmn; 0.0393\n",
       "                \n",
       "            </td>\n",
       "            <td style=\"padding: 0 0.5em 0 0.5em; text-align: left; border: none;\">\n",
       "                age\n",
       "            </td>\n",
       "        </tr>\n",
       "    \n",
       "        <tr style=\"background-color: hsl(120, 100.00%, 93.94%); border: none;\">\n",
       "            <td style=\"padding: 0 1em 0 0.5em; text-align: right; border: none;\">\n",
       "                0.0066\n",
       "                \n",
       "                    &plusmn; 0.0262\n",
       "                \n",
       "            </td>\n",
       "            <td style=\"padding: 0 0.5em 0 0.5em; text-align: left; border: none;\">\n",
       "                sex\n",
       "            </td>\n",
       "        </tr>\n",
       "    \n",
       "        <tr style=\"background-color: hsl(0, 100.00%, 100.00%); border: none;\">\n",
       "            <td style=\"padding: 0 1em 0 0.5em; text-align: right; border: none;\">\n",
       "                0.0000\n",
       "                \n",
       "                    &plusmn; 0.0207\n",
       "                \n",
       "            </td>\n",
       "            <td style=\"padding: 0 0.5em 0 0.5em; text-align: left; border: none;\">\n",
       "                slope\n",
       "            </td>\n",
       "        </tr>\n",
       "    \n",
       "        <tr style=\"background-color: hsl(0, 100.00%, 100.00%); border: none;\">\n",
       "            <td style=\"padding: 0 1em 0 0.5em; text-align: right; border: none;\">\n",
       "                0\n",
       "                \n",
       "                    &plusmn; 0.0000\n",
       "                \n",
       "            </td>\n",
       "            <td style=\"padding: 0 0.5em 0 0.5em; text-align: left; border: none;\">\n",
       "                fbs\n",
       "            </td>\n",
       "        </tr>\n",
       "    \n",
       "        <tr style=\"background-color: hsl(0, 100.00%, 96.27%); border: none;\">\n",
       "            <td style=\"padding: 0 1em 0 0.5em; text-align: right; border: none;\">\n",
       "                -0.0033\n",
       "                \n",
       "                    &plusmn; 0.0636\n",
       "                \n",
       "            </td>\n",
       "            <td style=\"padding: 0 0.5em 0 0.5em; text-align: left; border: none;\">\n",
       "                thalach\n",
       "            </td>\n",
       "        </tr>\n",
       "    \n",
       "        <tr style=\"background-color: hsl(0, 100.00%, 93.94%); border: none;\">\n",
       "            <td style=\"padding: 0 1em 0 0.5em; text-align: right; border: none;\">\n",
       "                -0.0066\n",
       "                \n",
       "                    &plusmn; 0.0161\n",
       "                \n",
       "            </td>\n",
       "            <td style=\"padding: 0 0.5em 0 0.5em; text-align: left; border: none;\">\n",
       "                trestbps\n",
       "            </td>\n",
       "        </tr>\n",
       "    \n",
       "        <tr style=\"background-color: hsl(0, 100.00%, 91.95%); border: none;\">\n",
       "            <td style=\"padding: 0 1em 0 0.5em; text-align: right; border: none;\">\n",
       "                -0.0098\n",
       "                \n",
       "                    &plusmn; 0.0161\n",
       "                \n",
       "            </td>\n",
       "            <td style=\"padding: 0 0.5em 0 0.5em; text-align: left; border: none;\">\n",
       "                exang\n",
       "            </td>\n",
       "        </tr>\n",
       "    \n",
       "    \n",
       "    </tbody>\n",
       "</table>\n",
       "    \n",
       "\n",
       "    \n",
       "\n",
       "\n",
       "    \n",
       "\n",
       "    \n",
       "\n",
       "    \n",
       "\n",
       "    \n",
       "\n",
       "    \n",
       "\n",
       "    \n",
       "\n",
       "\n",
       "\n"
      ],
      "text/plain": [
       "<IPython.core.display.HTML object>"
      ]
     },
     "execution_count": 104,
     "metadata": {},
     "output_type": "execute_result"
    }
   ],
   "source": [
    "perm = PermutationImportance(model, random_state=1).fit(x_test, y_test)\n",
    "eli5.show_weights(perm, feature_names = x_test.columns.tolist())"
   ]
  },
  {
   "cell_type": "markdown",
   "metadata": {},
   "source": [
    "Cleary cp played a crucial role, gender didn't this might also be possible because of low volume of data. However, it is pretty clear from above which features contributed the most to our classifier"
   ]
  },
  {
   "cell_type": "code",
   "execution_count": null,
   "metadata": {},
   "outputs": [],
   "source": []
  }
 ],
 "metadata": {
  "kernelspec": {
   "display_name": "Python 3",
   "language": "python",
   "name": "python3"
  },
  "language_info": {
   "codemirror_mode": {
    "name": "ipython",
    "version": 3
   },
   "file_extension": ".py",
   "mimetype": "text/x-python",
   "name": "python",
   "nbconvert_exporter": "python",
   "pygments_lexer": "ipython3",
   "version": "3.8.5"
  }
 },
 "nbformat": 4,
 "nbformat_minor": 4
}
